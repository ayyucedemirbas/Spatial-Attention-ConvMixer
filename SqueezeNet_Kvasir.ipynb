{
  "nbformat": 4,
  "nbformat_minor": 0,
  "metadata": {
    "colab": {
      "provenance": []
    },
    "kernelspec": {
      "name": "python3",
      "display_name": "Python 3"
    },
    "language_info": {
      "name": "python"
    },
    "accelerator": "GPU",
    "gpuClass": "standard"
  },
  "cells": [
    {
      "cell_type": "code",
      "source": [
        "from google.colab import drive\n",
        "drive.mount('/content/drive')"
      ],
      "metadata": {
        "colab": {
          "base_uri": "https://localhost:8080/"
        },
        "id": "59anpXVIK0Jc",
        "outputId": "cfe5729c-4d2f-4e0e-96cb-532705370ff7"
      },
      "execution_count": 1,
      "outputs": [
        {
          "output_type": "stream",
          "name": "stdout",
          "text": [
            "Mounted at /content/drive\n"
          ]
        }
      ]
    },
    {
      "cell_type": "code",
      "source": [
        "!cp  /content/drive/MyDrive/kvasir_dataset.zip ."
      ],
      "metadata": {
        "id": "-D-mRa7MK0gR"
      },
      "execution_count": 2,
      "outputs": []
    },
    {
      "cell_type": "code",
      "source": [
        "!unzip -qq kvasir_dataset.zip"
      ],
      "metadata": {
        "id": "YtFU3O0RMQm0"
      },
      "execution_count": 3,
      "outputs": []
    },
    {
      "cell_type": "code",
      "source": [
        "!rm -rf kvasir_dataset/train/.ipynb_checkpoints"
      ],
      "metadata": {
        "id": "hDDG786aMRTJ"
      },
      "execution_count": 4,
      "outputs": []
    },
    {
      "cell_type": "code",
      "source": [
        "imagePaths = \"kvasir_dataset/train/\"\n",
        "test_path = \"kvasir_dataset/test/\""
      ],
      "metadata": {
        "id": "3K9JR0N8Mf1T"
      },
      "execution_count": 1,
      "outputs": []
    },
    {
      "cell_type": "code",
      "source": [
        "batch_size=64\n",
        "img_height = 128\n",
        "img_width = 128"
      ],
      "metadata": {
        "id": "1SXy1yzQNl_D"
      },
      "execution_count": 2,
      "outputs": []
    },
    {
      "cell_type": "code",
      "source": [
        "import tensorflow as tf"
      ],
      "metadata": {
        "id": "WRg4n5_XPRgZ"
      },
      "execution_count": 3,
      "outputs": []
    },
    {
      "cell_type": "code",
      "source": [
        "train_ds = tf.keras.preprocessing.image_dataset_from_directory(\n",
        "  imagePaths,\n",
        "  #color_mode='grayscale',\n",
        "  validation_split=0.15,\n",
        "  subset=\"training\",\n",
        "  seed=123,\n",
        "  image_size=(img_height, img_width),\n",
        "  #label_mode=\"categorical\",\n",
        "  batch_size=batch_size)"
      ],
      "metadata": {
        "colab": {
          "base_uri": "https://localhost:8080/"
        },
        "id": "Tt8ALrEeMgaz",
        "outputId": "7707ffcf-c45c-4e3d-d823-f724d9d27643"
      },
      "execution_count": 4,
      "outputs": [
        {
          "output_type": "stream",
          "name": "stdout",
          "text": [
            "Found 15300 files belonging to 6 classes.\n",
            "Using 13005 files for training.\n"
          ]
        }
      ]
    },
    {
      "cell_type": "code",
      "source": [
        "val_ds = tf.keras.preprocessing.image_dataset_from_directory(\n",
        "  imagePaths, \n",
        "  #color_mode='grayscale',\n",
        "  validation_split=0.15,\n",
        "  subset=\"validation\",\n",
        "  seed=123,\n",
        "  image_size=(img_height, img_width),\n",
        "  #label_mode=\"categorical\",\n",
        "  batch_size=batch_size)"
      ],
      "metadata": {
        "colab": {
          "base_uri": "https://localhost:8080/"
        },
        "id": "x8rMS2s5Mjer",
        "outputId": "b59692f6-63cb-4bc8-bcf3-7689e4ce74d9"
      },
      "execution_count": 5,
      "outputs": [
        {
          "output_type": "stream",
          "name": "stdout",
          "text": [
            "Found 15300 files belonging to 6 classes.\n",
            "Using 2295 files for validation.\n"
          ]
        }
      ]
    },
    {
      "cell_type": "code",
      "source": [
        "test_ds = tf.keras.preprocessing.image_dataset_from_directory(\n",
        "  test_path,\n",
        "  seed=123,\n",
        "  image_size=(img_height, img_width),\n",
        "  #label_mode=\"categorical\",\n",
        "  batch_size=batch_size)"
      ],
      "metadata": {
        "colab": {
          "base_uri": "https://localhost:8080/"
        },
        "id": "9A_2S_kHMlwt",
        "outputId": "3188d081-3307-409e-bbfd-105ecc4de5ff"
      },
      "execution_count": 6,
      "outputs": [
        {
          "output_type": "stream",
          "name": "stdout",
          "text": [
            "Found 2700 files belonging to 6 classes.\n"
          ]
        }
      ]
    },
    {
      "cell_type": "code",
      "source": [
        "import numpy as np\n",
        "\n",
        "import tensorflow as tf\n",
        "from tensorflow.keras import Sequential, Model\n",
        "from tensorflow.keras.layers import Input, Dense, Layer, ReLU, concatenate\n",
        "from tensorflow.keras.layers import Concatenate, Add\n",
        "from tensorflow.keras.layers import Conv2D, MaxPool2D, GlobalAveragePooling2D, Dropout, AvgPool2D\n",
        "\n",
        "from tensorflow.keras.utils import plot_model\n",
        "\n",
        "import warnings\n",
        "warnings.simplefilter('ignore')"
      ],
      "metadata": {
        "id": "tWPF6HPeK0qj"
      },
      "execution_count": 7,
      "outputs": []
    },
    {
      "cell_type": "code",
      "source": [
        "one = (1, 1)\n",
        "two = (2, 2)\n",
        "three = (3, 3)\n",
        "five = (5, 5)\n",
        "seven = (7, 7)\n",
        "thirteen = (13, 13)\n",
        "\n",
        "input_shape = (128, 128, 3)"
      ],
      "metadata": {
        "id": "ClQh9IX9MH5o"
      },
      "execution_count": 8,
      "outputs": []
    },
    {
      "cell_type": "code",
      "source": [
        "class FireModule(object):\n",
        "    \"\"\"\n",
        "    Fire Module computed as per the SqueezeNet paper\n",
        "    \"\"\"\n",
        "    \n",
        "    def __init__(self, layer_number: int, activation: str, kernel_initializer: str) -> None:\n",
        "        \"\"\"\n",
        "        Constructor\n",
        "        \n",
        "        Arguments:\n",
        "          layer_number       : Index of the Fire Module\n",
        "          activation         : Activation to be used\n",
        "          kernel_initializer : Kernel Weight Initialization technique\n",
        "          \n",
        "        Returns:\n",
        "          None\n",
        "        \"\"\"\n",
        "        \n",
        "        self.layer_number = layer_number\n",
        "        self.activation = activation\n",
        "        self.kernel_initializer = kernel_initializer\n",
        "        \n",
        "    def build_module(self, fire_input: Layer) -> Layer:\n",
        "        \"\"\"\n",
        "        Build the SqueezeNet\n",
        "        \n",
        "        Arguments:\n",
        "          fire_input       : Input to Fire Module\n",
        "          \n",
        "        Returns:\n",
        "          model            : SqueezeNet\n",
        "        \"\"\"\n",
        "        \n",
        "        global one, three, five\n",
        "        \n",
        "        output_size = 128 * (1 + (self.layer_number//2))\n",
        "        \n",
        "        squeeze_1x1_filters = 16 * (1 + (self.layer_number//2))\n",
        "        expand_1x1_filters = expand_3x3_filters = output_size//2\n",
        "\n",
        "        squeeze_1x1 = Conv2D(name=f'fire_{self.layer_number+2}_squeeze_1x1',\n",
        "            filters=squeeze_1x1_filters, kernel_size=one, strides=1, padding='valid', activation=self.activation, \n",
        "            kernel_initializer=self.kernel_initializer)(fire_input)\n",
        "        expand_1x1 = Conv2D(name=f'fire_{self.layer_number+2}_expand_1x1',\n",
        "            filters=expand_1x1_filters, kernel_size=one, strides=1, padding='valid', activation=self.activation, \n",
        "            kernel_initializer=self.kernel_initializer)(squeeze_1x1)\n",
        "        expand_3x3 = Conv2D(name=f'fire_{self.layer_number+2}_expand_3x3',\n",
        "            filters=expand_3x3_filters, kernel_size=three, strides=1, padding='same', activation=self.activation, \n",
        "            kernel_initializer=self.kernel_initializer)(squeeze_1x1)\n",
        "\n",
        "        fire = Concatenate(name=f'fire_{self.layer_number+2}')([expand_1x1, expand_3x3])\n",
        "        \n",
        "        return fire"
      ],
      "metadata": {
        "id": "DEsli5hLN8Zp"
      },
      "execution_count": 9,
      "outputs": []
    },
    {
      "cell_type": "code",
      "execution_count": 10,
      "metadata": {
        "id": "3IuwVeL1KtmV"
      },
      "outputs": [],
      "source": [
        "class SqueezeNet(object):\n",
        "    \"\"\"\n",
        "    SqueezeNet Architecture\n",
        "    \"\"\"\n",
        "    \n",
        "    def __init__(self, activation: str='relu', kernel_initializer: str='glorot_uniform') -> None:\n",
        "        \"\"\"\n",
        "        Constructor\n",
        "        \n",
        "        Arguments:\n",
        "          activation         : Activation to be used\n",
        "          kernel_initializer : Kernel Weight Initialization technique\n",
        "          \n",
        "        Returns:\n",
        "          None\n",
        "        \"\"\"\n",
        "        \n",
        "        self.activation = activation\n",
        "        self.kernel_initializer = kernel_initializer\n",
        "    \n",
        "    def vanilla_model(self, input_shape: tuple=(128, 128, 3), n_classes: int=6) -> None:\n",
        "        \"\"\"\n",
        "        Vanilla Implementation of SqueezeNet\n",
        "        \n",
        "        Arguments:\n",
        "          input_shape         : Input Shape of the images\n",
        "          n_classes           : Number of output classes\n",
        "          \n",
        "        Returns:\n",
        "          None\n",
        "        \"\"\"\n",
        "        \n",
        "        inp = Input(shape=input_shape, name='Input')\n",
        "        \n",
        "        # Conv1 Layer\n",
        "        conv_1 = Conv2D(name=\"Conv_1\",\n",
        "            filters=96, kernel_size=seven, strides=2, padding='same', activation=self.activation, kernel_initializer=self.kernel_initializer)(inp)\n",
        "        maxpool_1 = MaxPool2D(name=\"MaxPool_1\",\n",
        "            pool_size=three, strides=2)(conv_1)\n",
        "        \n",
        "        # Fire 2-4\n",
        "        fire_2 = FireModule(layer_number=0, activation=self.activation, kernel_initializer=self.kernel_initializer).build_module(maxpool_1)\n",
        "        fire_3 = FireModule(layer_number=1, activation=self.activation, kernel_initializer=self.kernel_initializer).build_module(fire_2)\n",
        "        fire_4 = FireModule(layer_number=2, activation=self.activation, kernel_initializer=self.kernel_initializer).build_module(fire_3)\n",
        "        \n",
        "        # Max Pool after Fire4 Module\n",
        "        maxpool_2 = MaxPool2D(name=\"MaxPool_2\",\n",
        "            pool_size=three, strides=2)(fire_4)\n",
        "        \n",
        "        # Fire 5-8\n",
        "        fire_5 = FireModule(layer_number=3, activation=self.activation, kernel_initializer=self.kernel_initializer).build_module(maxpool_2)\n",
        "        fire_6 = FireModule(layer_number=4, activation=self.activation, kernel_initializer=self.kernel_initializer).build_module(fire_5)\n",
        "        fire_7 = FireModule(layer_number=5, activation=self.activation, kernel_initializer=self.kernel_initializer).build_module(fire_6)\n",
        "        fire_8 = FireModule(layer_number=6, activation=self.activation, kernel_initializer=self.kernel_initializer).build_module(fire_7)\n",
        "\n",
        "        # Max Pool after Fire8 Module\n",
        "        maxpool_3 = MaxPool2D(name=\"MaxPool_3\",\n",
        "            pool_size=three, strides=2)(fire_8)\n",
        "        \n",
        "        fire_9 = FireModule(layer_number=7, activation=self.activation, kernel_initializer=self.kernel_initializer).build_module(maxpool_3)\n",
        "        \n",
        "        # Dropout\n",
        "        dropout = Dropout(0.5, name=\"Dropout\")(fire_9)\n",
        "        \n",
        "        # Conv10 layer\n",
        "        conv_10 = Conv2D(name=\"Conv_10\",\n",
        "            filters=1000, kernel_size=one, strides=1, padding='valid', activation=self.activation, kernel_initializer=self.kernel_initializer)(dropout)\n",
        "        gap_11 = GlobalAveragePooling2D()(conv_10)\n",
        "\n",
        "        \n",
        "        if n_classes != 1000:\n",
        "            # Add Dense(n_classes) and ouput == Dense layer\n",
        "            out = Dense(n_classes, activation='softmax')(gap_11)\n",
        "        else:\n",
        "            out = gap_11\n",
        "        \n",
        "        self.model = Model(inputs=inp, outputs=out)\n",
        "        \n",
        "        \n",
        "    def bypass_model(self, input_shape: tuple=(128, 128, 3), n_classes: int=6) -> None:\n",
        "        \"\"\"\n",
        "        Residual Inspired Bypass Implementation of SqueezeNet\n",
        "        \n",
        "        Arguments:\n",
        "          input_shape         : Input Shape of the images\n",
        "          n_classes           : Number of output classes\n",
        "          \n",
        "        Returns:\n",
        "          None\n",
        "        \"\"\"\n",
        "        \n",
        "        inp = Input(shape=input_shape, name='Input')\n",
        "        \n",
        "        # Conv1 Layer\n",
        "        conv_1 = Conv2D(name=\"Conv_1\",\n",
        "            filters=96, kernel_size=seven, strides=2, padding='same', activation=self.activation, kernel_initializer=self.kernel_initializer)(inp)\n",
        "        maxpool_1 = MaxPool2D(name=\"MaxPool_1\",\n",
        "            pool_size=three, strides=2)(conv_1)\n",
        "        \n",
        "        # Fire 2-4\n",
        "        fire_2 = FireModule(layer_number=0, activation=self.activation, kernel_initializer=self.kernel_initializer).build_module(maxpool_1)\n",
        "        fire_3 = FireModule(layer_number=1, activation=self.activation, kernel_initializer=self.kernel_initializer).build_module(fire_2)\n",
        "        bypass_1 = Add(name=\"Bypass_1\")([fire_2, fire_3])\n",
        "        fire_4 = FireModule(layer_number=2, activation=self.activation, kernel_initializer=self.kernel_initializer).build_module(bypass_1)\n",
        "        \n",
        "        # Max Pool after Fire4 Module\n",
        "        maxpool_2 = MaxPool2D(name=\"MaxPool_2\",\n",
        "            pool_size=three, strides=2)(fire_4)\n",
        "        \n",
        "        # Fire 5-8\n",
        "        fire_5 = FireModule(layer_number=3, activation=self.activation, kernel_initializer=self.kernel_initializer).build_module(maxpool_2)\n",
        "        bypass_2 = Add(name=\"Bypass_2\")([maxpool_2, fire_5])\n",
        "        fire_6 = FireModule(layer_number=4, activation=self.activation, kernel_initializer=self.kernel_initializer).build_module(bypass_2)\n",
        "        fire_7 = FireModule(layer_number=5, activation=self.activation, kernel_initializer=self.kernel_initializer).build_module(fire_6)\n",
        "        bypass_3 = Add(name=\"Bypass_3\")([fire_6, fire_7])\n",
        "        fire_8 = FireModule(layer_number=6, activation=self.activation, kernel_initializer=self.kernel_initializer).build_module(bypass_3)\n",
        "\n",
        "        # Max Pool after Fire8 Module\n",
        "        maxpool_3 = MaxPool2D(name=\"MaxPool_3\",\n",
        "            pool_size=three, strides=2)(fire_8)\n",
        "        \n",
        "        fire_9 = FireModule(layer_number=7, activation=self.activation, kernel_initializer=self.kernel_initializer).build_module(maxpool_3)\n",
        "        bypass_4 = Add(name=\"Bypass_4\")([maxpool_3, fire_9])\n",
        "        \n",
        "        # Dropout\n",
        "        dropout = Dropout(0.5, name=\"Dropout\")(bypass_4)\n",
        "        \n",
        "        # Conv10 layer\n",
        "        conv_10 = Conv2D(name=\"Conv_10\",\n",
        "            filters=1000, kernel_size=one, strides=1, padding='valid', activation=self.activation, kernel_initializer=self.kernel_initializer)(dropout)\n",
        "        gap_11 = GlobalAveragePooling2D()(conv_10)\n",
        "\n",
        "        \n",
        "        if n_classes != 1000:\n",
        "            out = Dense(n_classes, activation='softmax')(gap_11)\n",
        "        else:\n",
        "            out = gap_11\n",
        "        \n",
        "        self.model = Model(inputs=inp, outputs=out)\n",
        "    \n",
        "    \n",
        "    def build_model(self, input_shape: tuple=(128, 128, 3), n_classes: int=6, choice: str='vanilla') -> Model:\n",
        "        \"\"\"\n",
        "        Build SqueezeNet\n",
        "        \n",
        "        Arguments:\n",
        "          input_shape         : Input Shape of the images\n",
        "          n_classes           : Number of output classes\n",
        "          choice              : Type of architecture (vanilla/bypass)\n",
        "        Returns:\n",
        "          model               : SqueezeNet Model\n",
        "        \"\"\"\n",
        "        \n",
        "        if choice == \"vanilla\":\n",
        "            self.vanilla_model(input_shape, n_classes)\n",
        "        else:\n",
        "            self.bypass_model(input_shape, n_classes)\n",
        "        \n",
        "        return self.model"
      ]
    },
    {
      "cell_type": "code",
      "source": [
        "snet = SqueezeNet()\n",
        "\n",
        "model = snet.build_model(n_classes=6, choice='bypass')\n",
        "model.summary()"
      ],
      "metadata": {
        "colab": {
          "base_uri": "https://localhost:8080/"
        },
        "id": "L8eTYtTNMpXa",
        "outputId": "86bd4571-1b9e-4aa1-8998-cf0fb99b6003"
      },
      "execution_count": 11,
      "outputs": [
        {
          "output_type": "stream",
          "name": "stdout",
          "text": [
            "Model: \"model\"\n",
            "__________________________________________________________________________________________________\n",
            " Layer (type)                   Output Shape         Param #     Connected to                     \n",
            "==================================================================================================\n",
            " Input (InputLayer)             [(None, 128, 128, 3  0           []                               \n",
            "                                )]                                                                \n",
            "                                                                                                  \n",
            " Conv_1 (Conv2D)                (None, 64, 64, 96)   14208       ['Input[0][0]']                  \n",
            "                                                                                                  \n",
            " MaxPool_1 (MaxPooling2D)       (None, 31, 31, 96)   0           ['Conv_1[0][0]']                 \n",
            "                                                                                                  \n",
            " fire_2_squeeze_1x1 (Conv2D)    (None, 31, 31, 16)   1552        ['MaxPool_1[0][0]']              \n",
            "                                                                                                  \n",
            " fire_2_expand_1x1 (Conv2D)     (None, 31, 31, 64)   1088        ['fire_2_squeeze_1x1[0][0]']     \n",
            "                                                                                                  \n",
            " fire_2_expand_3x3 (Conv2D)     (None, 31, 31, 64)   9280        ['fire_2_squeeze_1x1[0][0]']     \n",
            "                                                                                                  \n",
            " fire_2 (Concatenate)           (None, 31, 31, 128)  0           ['fire_2_expand_1x1[0][0]',      \n",
            "                                                                  'fire_2_expand_3x3[0][0]']      \n",
            "                                                                                                  \n",
            " fire_3_squeeze_1x1 (Conv2D)    (None, 31, 31, 16)   2064        ['fire_2[0][0]']                 \n",
            "                                                                                                  \n",
            " fire_3_expand_1x1 (Conv2D)     (None, 31, 31, 64)   1088        ['fire_3_squeeze_1x1[0][0]']     \n",
            "                                                                                                  \n",
            " fire_3_expand_3x3 (Conv2D)     (None, 31, 31, 64)   9280        ['fire_3_squeeze_1x1[0][0]']     \n",
            "                                                                                                  \n",
            " fire_3 (Concatenate)           (None, 31, 31, 128)  0           ['fire_3_expand_1x1[0][0]',      \n",
            "                                                                  'fire_3_expand_3x3[0][0]']      \n",
            "                                                                                                  \n",
            " Bypass_1 (Add)                 (None, 31, 31, 128)  0           ['fire_2[0][0]',                 \n",
            "                                                                  'fire_3[0][0]']                 \n",
            "                                                                                                  \n",
            " fire_4_squeeze_1x1 (Conv2D)    (None, 31, 31, 32)   4128        ['Bypass_1[0][0]']               \n",
            "                                                                                                  \n",
            " fire_4_expand_1x1 (Conv2D)     (None, 31, 31, 128)  4224        ['fire_4_squeeze_1x1[0][0]']     \n",
            "                                                                                                  \n",
            " fire_4_expand_3x3 (Conv2D)     (None, 31, 31, 128)  36992       ['fire_4_squeeze_1x1[0][0]']     \n",
            "                                                                                                  \n",
            " fire_4 (Concatenate)           (None, 31, 31, 256)  0           ['fire_4_expand_1x1[0][0]',      \n",
            "                                                                  'fire_4_expand_3x3[0][0]']      \n",
            "                                                                                                  \n",
            " MaxPool_2 (MaxPooling2D)       (None, 15, 15, 256)  0           ['fire_4[0][0]']                 \n",
            "                                                                                                  \n",
            " fire_5_squeeze_1x1 (Conv2D)    (None, 15, 15, 32)   8224        ['MaxPool_2[0][0]']              \n",
            "                                                                                                  \n",
            " fire_5_expand_1x1 (Conv2D)     (None, 15, 15, 128)  4224        ['fire_5_squeeze_1x1[0][0]']     \n",
            "                                                                                                  \n",
            " fire_5_expand_3x3 (Conv2D)     (None, 15, 15, 128)  36992       ['fire_5_squeeze_1x1[0][0]']     \n",
            "                                                                                                  \n",
            " fire_5 (Concatenate)           (None, 15, 15, 256)  0           ['fire_5_expand_1x1[0][0]',      \n",
            "                                                                  'fire_5_expand_3x3[0][0]']      \n",
            "                                                                                                  \n",
            " Bypass_2 (Add)                 (None, 15, 15, 256)  0           ['MaxPool_2[0][0]',              \n",
            "                                                                  'fire_5[0][0]']                 \n",
            "                                                                                                  \n",
            " fire_6_squeeze_1x1 (Conv2D)    (None, 15, 15, 48)   12336       ['Bypass_2[0][0]']               \n",
            "                                                                                                  \n",
            " fire_6_expand_1x1 (Conv2D)     (None, 15, 15, 192)  9408        ['fire_6_squeeze_1x1[0][0]']     \n",
            "                                                                                                  \n",
            " fire_6_expand_3x3 (Conv2D)     (None, 15, 15, 192)  83136       ['fire_6_squeeze_1x1[0][0]']     \n",
            "                                                                                                  \n",
            " fire_6 (Concatenate)           (None, 15, 15, 384)  0           ['fire_6_expand_1x1[0][0]',      \n",
            "                                                                  'fire_6_expand_3x3[0][0]']      \n",
            "                                                                                                  \n",
            " fire_7_squeeze_1x1 (Conv2D)    (None, 15, 15, 48)   18480       ['fire_6[0][0]']                 \n",
            "                                                                                                  \n",
            " fire_7_expand_1x1 (Conv2D)     (None, 15, 15, 192)  9408        ['fire_7_squeeze_1x1[0][0]']     \n",
            "                                                                                                  \n",
            " fire_7_expand_3x3 (Conv2D)     (None, 15, 15, 192)  83136       ['fire_7_squeeze_1x1[0][0]']     \n",
            "                                                                                                  \n",
            " fire_7 (Concatenate)           (None, 15, 15, 384)  0           ['fire_7_expand_1x1[0][0]',      \n",
            "                                                                  'fire_7_expand_3x3[0][0]']      \n",
            "                                                                                                  \n",
            " Bypass_3 (Add)                 (None, 15, 15, 384)  0           ['fire_6[0][0]',                 \n",
            "                                                                  'fire_7[0][0]']                 \n",
            "                                                                                                  \n",
            " fire_8_squeeze_1x1 (Conv2D)    (None, 15, 15, 64)   24640       ['Bypass_3[0][0]']               \n",
            "                                                                                                  \n",
            " fire_8_expand_1x1 (Conv2D)     (None, 15, 15, 256)  16640       ['fire_8_squeeze_1x1[0][0]']     \n",
            "                                                                                                  \n",
            " fire_8_expand_3x3 (Conv2D)     (None, 15, 15, 256)  147712      ['fire_8_squeeze_1x1[0][0]']     \n",
            "                                                                                                  \n",
            " fire_8 (Concatenate)           (None, 15, 15, 512)  0           ['fire_8_expand_1x1[0][0]',      \n",
            "                                                                  'fire_8_expand_3x3[0][0]']      \n",
            "                                                                                                  \n",
            " MaxPool_3 (MaxPooling2D)       (None, 7, 7, 512)    0           ['fire_8[0][0]']                 \n",
            "                                                                                                  \n",
            " fire_9_squeeze_1x1 (Conv2D)    (None, 7, 7, 64)     32832       ['MaxPool_3[0][0]']              \n",
            "                                                                                                  \n",
            " fire_9_expand_1x1 (Conv2D)     (None, 7, 7, 256)    16640       ['fire_9_squeeze_1x1[0][0]']     \n",
            "                                                                                                  \n",
            " fire_9_expand_3x3 (Conv2D)     (None, 7, 7, 256)    147712      ['fire_9_squeeze_1x1[0][0]']     \n",
            "                                                                                                  \n",
            " fire_9 (Concatenate)           (None, 7, 7, 512)    0           ['fire_9_expand_1x1[0][0]',      \n",
            "                                                                  'fire_9_expand_3x3[0][0]']      \n",
            "                                                                                                  \n",
            " Bypass_4 (Add)                 (None, 7, 7, 512)    0           ['MaxPool_3[0][0]',              \n",
            "                                                                  'fire_9[0][0]']                 \n",
            "                                                                                                  \n",
            " Dropout (Dropout)              (None, 7, 7, 512)    0           ['Bypass_4[0][0]']               \n",
            "                                                                                                  \n",
            " Conv_10 (Conv2D)               (None, 7, 7, 1000)   513000      ['Dropout[0][0]']                \n",
            "                                                                                                  \n",
            " global_average_pooling2d (Glob  (None, 1000)        0           ['Conv_10[0][0]']                \n",
            " alAveragePooling2D)                                                                              \n",
            "                                                                                                  \n",
            " dense (Dense)                  (None, 6)            6006        ['global_average_pooling2d[0][0]'\n",
            "                                                                 ]                                \n",
            "                                                                                                  \n",
            "==================================================================================================\n",
            "Total params: 1,254,430\n",
            "Trainable params: 1,254,430\n",
            "Non-trainable params: 0\n",
            "__________________________________________________________________________________________________\n"
          ]
        }
      ]
    },
    {
      "cell_type": "code",
      "source": [
        "opt = tf.keras.optimizers.Adam(learning_rate=1e-4, clipvalue=0.5)\n",
        "model.compile(loss=tf.keras.losses.sparse_categorical_crossentropy, optimizer=opt, metrics=['accuracy',])"
      ],
      "metadata": {
        "id": "e8qt5VrFPjdl"
      },
      "execution_count": 12,
      "outputs": []
    },
    {
      "cell_type": "code",
      "source": [
        "history = model.fit(train_ds, validation_data=val_ds, batch_size=64, epochs=25)"
      ],
      "metadata": {
        "colab": {
          "base_uri": "https://localhost:8080/"
        },
        "id": "9jWdrNG4NM_d",
        "outputId": "a34db61c-dfa2-413c-bbcb-012af4fc07e7"
      },
      "execution_count": 13,
      "outputs": [
        {
          "output_type": "stream",
          "name": "stdout",
          "text": [
            "Epoch 1/25\n",
            "204/204 [==============================] - 208s 945ms/step - loss: 1.0133 - accuracy: 0.5347 - val_loss: 0.7463 - val_accuracy: 0.6305\n",
            "Epoch 2/25\n",
            "204/204 [==============================] - 197s 937ms/step - loss: 0.7102 - accuracy: 0.6585 - val_loss: 0.6456 - val_accuracy: 0.6989\n",
            "Epoch 3/25\n",
            "204/204 [==============================] - 197s 936ms/step - loss: 0.6341 - accuracy: 0.6986 - val_loss: 0.6201 - val_accuracy: 0.7050\n",
            "Epoch 4/25\n",
            "204/204 [==============================] - 198s 935ms/step - loss: 0.6058 - accuracy: 0.7152 - val_loss: 0.6167 - val_accuracy: 0.7194\n",
            "Epoch 5/25\n",
            "204/204 [==============================] - 200s 951ms/step - loss: 0.5732 - accuracy: 0.7339 - val_loss: 0.5909 - val_accuracy: 0.7294\n",
            "Epoch 6/25\n",
            "204/204 [==============================] - 198s 941ms/step - loss: 0.5646 - accuracy: 0.7396 - val_loss: 0.5612 - val_accuracy: 0.7477\n",
            "Epoch 7/25\n",
            "204/204 [==============================] - 197s 934ms/step - loss: 0.5416 - accuracy: 0.7519 - val_loss: 0.6068 - val_accuracy: 0.6806\n",
            "Epoch 8/25\n",
            "204/204 [==============================] - 197s 936ms/step - loss: 0.5177 - accuracy: 0.7649 - val_loss: 0.5169 - val_accuracy: 0.7721\n",
            "Epoch 9/25\n",
            "204/204 [==============================] - 197s 937ms/step - loss: 0.5054 - accuracy: 0.7742 - val_loss: 0.4899 - val_accuracy: 0.7786\n",
            "Epoch 10/25\n",
            "204/204 [==============================] - 197s 936ms/step - loss: 0.4833 - accuracy: 0.7833 - val_loss: 0.4974 - val_accuracy: 0.7900\n",
            "Epoch 11/25\n",
            "204/204 [==============================] - 197s 939ms/step - loss: 0.4705 - accuracy: 0.7927 - val_loss: 0.5096 - val_accuracy: 0.7664\n",
            "Epoch 12/25\n",
            "204/204 [==============================] - 198s 940ms/step - loss: 0.4588 - accuracy: 0.7985 - val_loss: 0.5122 - val_accuracy: 0.7878\n",
            "Epoch 13/25\n",
            "204/204 [==============================] - 198s 939ms/step - loss: 0.4335 - accuracy: 0.8163 - val_loss: 0.5081 - val_accuracy: 0.7821\n",
            "Epoch 14/25\n",
            "204/204 [==============================] - 199s 939ms/step - loss: 0.4218 - accuracy: 0.8203 - val_loss: 0.5022 - val_accuracy: 0.7752\n",
            "Epoch 15/25\n",
            "204/204 [==============================] - 197s 938ms/step - loss: 0.3969 - accuracy: 0.8328 - val_loss: 0.4596 - val_accuracy: 0.8000\n",
            "Epoch 16/25\n",
            "204/204 [==============================] - 197s 938ms/step - loss: 0.3773 - accuracy: 0.8455 - val_loss: 0.4405 - val_accuracy: 0.8009\n",
            "Epoch 17/25\n",
            "204/204 [==============================] - 197s 939ms/step - loss: 0.3585 - accuracy: 0.8497 - val_loss: 0.5135 - val_accuracy: 0.7935\n",
            "Epoch 18/25\n",
            "204/204 [==============================] - 196s 933ms/step - loss: 0.3451 - accuracy: 0.8586 - val_loss: 0.4205 - val_accuracy: 0.8353\n",
            "Epoch 19/25\n",
            "204/204 [==============================] - 211s 1s/step - loss: 0.3423 - accuracy: 0.8570 - val_loss: 0.4030 - val_accuracy: 0.8292\n",
            "Epoch 20/25\n",
            "204/204 [==============================] - 198s 938ms/step - loss: 0.3201 - accuracy: 0.8661 - val_loss: 0.4413 - val_accuracy: 0.8222\n",
            "Epoch 21/25\n",
            "204/204 [==============================] - 196s 931ms/step - loss: 0.3088 - accuracy: 0.8737 - val_loss: 0.3911 - val_accuracy: 0.8410\n",
            "Epoch 22/25\n",
            "204/204 [==============================] - 197s 935ms/step - loss: 0.3105 - accuracy: 0.8720 - val_loss: 0.4181 - val_accuracy: 0.8257\n",
            "Epoch 23/25\n",
            "204/204 [==============================] - 197s 936ms/step - loss: 0.2876 - accuracy: 0.8802 - val_loss: 0.3559 - val_accuracy: 0.8606\n",
            "Epoch 24/25\n",
            "204/204 [==============================] - 197s 936ms/step - loss: 0.2621 - accuracy: 0.8927 - val_loss: 0.4363 - val_accuracy: 0.8187\n",
            "Epoch 25/25\n",
            "204/204 [==============================] - 197s 934ms/step - loss: 0.2667 - accuracy: 0.8922 - val_loss: 0.3750 - val_accuracy: 0.8497\n"
          ]
        }
      ]
    },
    {
      "cell_type": "code",
      "source": [
        "model.evaluate(test_ds)"
      ],
      "metadata": {
        "colab": {
          "base_uri": "https://localhost:8080/"
        },
        "id": "Zv8e1vJhk89E",
        "outputId": "4398ef5d-ac2f-46ab-f3ec-312b9533c6a8"
      },
      "execution_count": 14,
      "outputs": [
        {
          "output_type": "stream",
          "name": "stdout",
          "text": [
            "43/43 [==============================] - 34s 638ms/step - loss: 0.3549 - accuracy: 0.8559\n"
          ]
        },
        {
          "output_type": "execute_result",
          "data": {
            "text/plain": [
              "[0.354892760515213, 0.8559259176254272]"
            ]
          },
          "metadata": {},
          "execution_count": 14
        }
      ]
    },
    {
      "cell_type": "code",
      "source": [
        "from sklearn.metrics import classification_report, confusion_matrix\n",
        "import numpy as np"
      ],
      "metadata": {
        "id": "Fu4P-YL6k_2M"
      },
      "execution_count": 15,
      "outputs": []
    },
    {
      "cell_type": "code",
      "source": [
        "predictions = np.array([])\n",
        "labels =  np.array([])\n",
        "for x, y in test_ds:\n",
        "  Y_pred=model.predict(x)\n",
        "  y_prediction = np.argmax(Y_pred, axis=1)\n",
        "  predictions = np.concatenate([predictions, y_prediction])\n",
        "  labels = np.concatenate([labels, y.numpy()])"
      ],
      "metadata": {
        "colab": {
          "base_uri": "https://localhost:8080/"
        },
        "id": "nYyGws52lFO0",
        "outputId": "f0053621-e99c-4dee-9f96-ca40776a86e4"
      },
      "execution_count": 16,
      "outputs": [
        {
          "output_type": "stream",
          "name": "stdout",
          "text": [
            "2/2 [==============================] - 1s 11ms/step\n",
            "2/2 [==============================] - 0s 25ms/step\n",
            "2/2 [==============================] - 0s 14ms/step\n",
            "2/2 [==============================] - 0s 18ms/step\n",
            "2/2 [==============================] - 0s 22ms/step\n",
            "2/2 [==============================] - 0s 28ms/step\n",
            "2/2 [==============================] - 0s 28ms/step\n",
            "2/2 [==============================] - 0s 13ms/step\n",
            "2/2 [==============================] - 0s 24ms/step\n",
            "2/2 [==============================] - 0s 25ms/step\n",
            "2/2 [==============================] - 0s 21ms/step\n",
            "2/2 [==============================] - 0s 25ms/step\n",
            "2/2 [==============================] - 0s 18ms/step\n",
            "2/2 [==============================] - 0s 18ms/step\n",
            "2/2 [==============================] - 0s 17ms/step\n",
            "2/2 [==============================] - 0s 23ms/step\n",
            "2/2 [==============================] - 0s 18ms/step\n",
            "2/2 [==============================] - 0s 18ms/step\n",
            "2/2 [==============================] - 0s 23ms/step\n",
            "2/2 [==============================] - 0s 21ms/step\n",
            "2/2 [==============================] - 0s 18ms/step\n",
            "2/2 [==============================] - 0s 18ms/step\n",
            "2/2 [==============================] - 0s 17ms/step\n",
            "2/2 [==============================] - 0s 18ms/step\n",
            "2/2 [==============================] - 0s 18ms/step\n",
            "2/2 [==============================] - 0s 20ms/step\n",
            "2/2 [==============================] - 0s 18ms/step\n",
            "2/2 [==============================] - 0s 19ms/step\n",
            "2/2 [==============================] - 0s 20ms/step\n",
            "2/2 [==============================] - 0s 22ms/step\n",
            "2/2 [==============================] - 0s 20ms/step\n",
            "2/2 [==============================] - 0s 21ms/step\n",
            "2/2 [==============================] - 0s 18ms/step\n",
            "2/2 [==============================] - 0s 17ms/step\n",
            "2/2 [==============================] - 0s 17ms/step\n",
            "2/2 [==============================] - 0s 18ms/step\n",
            "2/2 [==============================] - 0s 18ms/step\n",
            "2/2 [==============================] - 0s 17ms/step\n",
            "2/2 [==============================] - 0s 17ms/step\n",
            "2/2 [==============================] - 0s 17ms/step\n",
            "2/2 [==============================] - 0s 17ms/step\n",
            "2/2 [==============================] - 0s 16ms/step\n",
            "1/1 [==============================] - 0s 214ms/step\n"
          ]
        }
      ]
    },
    {
      "cell_type": "code",
      "source": [
        "print('Confusion Matrix')\n",
        "print(confusion_matrix(y_true=labels, y_pred=predictions))"
      ],
      "metadata": {
        "colab": {
          "base_uri": "https://localhost:8080/"
        },
        "id": "acWfDkiHlJDO",
        "outputId": "1077fcdc-caf3-4118-8645-5d7c544d5f63"
      },
      "execution_count": 17,
      "outputs": [
        {
          "output_type": "stream",
          "name": "stdout",
          "text": [
            "Confusion Matrix\n",
            "[[416  33   0   0   1   0]\n",
            " [ 89 361   0   0   0   0]\n",
            " [  0   0 446   4   0   0]\n",
            " [  0   0 102 334   8   6]\n",
            " [ 11   0   5  18 365  51]\n",
            " [  3   0   1  10  47 389]]\n"
          ]
        }
      ]
    },
    {
      "cell_type": "code",
      "source": [
        "classes=['dyed-lifted-polyps','dyed-resection-margins', 'esophagitis','normal','polyps', 'ulcerative-colitis']\n",
        "     \n",
        "print('Classification Report')\n",
        "target_names = classes\n",
        "print(classification_report(y_true=labels, y_pred=predictions, target_names=target_names))"
      ],
      "metadata": {
        "colab": {
          "base_uri": "https://localhost:8080/"
        },
        "id": "pQD9KAIvlMnu",
        "outputId": "b82343ce-7d56-4865-c45b-7d757856d01d"
      },
      "execution_count": 18,
      "outputs": [
        {
          "output_type": "stream",
          "name": "stdout",
          "text": [
            "Classification Report\n",
            "                        precision    recall  f1-score   support\n",
            "\n",
            "    dyed-lifted-polyps       0.80      0.92      0.86       450\n",
            "dyed-resection-margins       0.92      0.80      0.86       450\n",
            "           esophagitis       0.81      0.99      0.89       450\n",
            "                normal       0.91      0.74      0.82       450\n",
            "                polyps       0.87      0.81      0.84       450\n",
            "    ulcerative-colitis       0.87      0.86      0.87       450\n",
            "\n",
            "              accuracy                           0.86      2700\n",
            "             macro avg       0.86      0.86      0.85      2700\n",
            "          weighted avg       0.86      0.86      0.85      2700\n",
            "\n"
          ]
        }
      ]
    },
    {
      "cell_type": "code",
      "source": [
        "model.save(\"squeezenet_kvasir\")"
      ],
      "metadata": {
        "colab": {
          "base_uri": "https://localhost:8080/"
        },
        "id": "FvzUsPdllPdr",
        "outputId": "4201867e-3bf6-4d4b-890f-0abc27a3f8bd"
      },
      "execution_count": 19,
      "outputs": [
        {
          "output_type": "stream",
          "name": "stderr",
          "text": [
            "WARNING:absl:Function `_wrapped_model` contains input name(s) Input with unsupported characters which will be renamed to input in the SavedModel.\n",
            "WARNING:absl:Found untraced functions such as _jit_compiled_convolution_op, _jit_compiled_convolution_op, _jit_compiled_convolution_op, _jit_compiled_convolution_op, _jit_compiled_convolution_op while saving (showing 5 of 26). These functions will not be directly callable after loading.\n"
          ]
        }
      ]
    },
    {
      "cell_type": "code",
      "source": [
        "!zip -r squeezenet_kvasir.zip squeezenet_kvasir/"
      ],
      "metadata": {
        "colab": {
          "base_uri": "https://localhost:8080/"
        },
        "id": "BMJ0FUAclV4N",
        "outputId": "0c9c530c-24f3-416d-91e1-2a727cb0a597"
      },
      "execution_count": 21,
      "outputs": [
        {
          "output_type": "stream",
          "name": "stdout",
          "text": [
            "  adding: squeezenet_kvasir/ (stored 0%)\n",
            "  adding: squeezenet_kvasir/saved_model.pb (deflated 90%)\n",
            "  adding: squeezenet_kvasir/keras_metadata.pb (deflated 95%)\n",
            "  adding: squeezenet_kvasir/variables/ (stored 0%)\n",
            "  adding: squeezenet_kvasir/variables/variables.data-00000-of-00001 (deflated 8%)\n",
            "  adding: squeezenet_kvasir/variables/variables.index (deflated 76%)\n",
            "  adding: squeezenet_kvasir/assets/ (stored 0%)\n"
          ]
        }
      ]
    }
  ]
}