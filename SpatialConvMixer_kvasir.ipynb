{
  "nbformat": 4,
  "nbformat_minor": 0,
  "metadata": {
    "colab": {
      "provenance": []
    },
    "kernelspec": {
      "name": "python3",
      "display_name": "Python 3"
    },
    "language_info": {
      "name": "python"
    },
    "accelerator": "GPU",
    "gpuClass": "standard"
  },
  "cells": [
    {
      "cell_type": "code",
      "source": [
        "from google.colab import drive\n",
        "drive.mount('/content/drive')"
      ],
      "metadata": {
        "colab": {
          "base_uri": "https://localhost:8080/"
        },
        "id": "wv8J-yOm0RtU",
        "outputId": "0d6af5db-2970-4d9a-f181-c44922cb9ab0"
      },
      "execution_count": 1,
      "outputs": [
        {
          "output_type": "stream",
          "name": "stdout",
          "text": [
            "Mounted at /content/drive\n"
          ]
        }
      ]
    },
    {
      "cell_type": "code",
      "execution_count": 2,
      "metadata": {
        "id": "opEqBcQK7i4W"
      },
      "outputs": [],
      "source": [
        "!cp /content/drive/MyDrive/kvasir_dataset.zip ."
      ]
    },
    {
      "cell_type": "code",
      "source": [
        "!unzip -qq kvasir_dataset.zip"
      ],
      "metadata": {
        "id": "n3hrt5xR7oBb"
      },
      "execution_count": 3,
      "outputs": []
    },
    {
      "cell_type": "code",
      "source": [
        "imagePaths = \"kvasir_dataset/train/\"\n",
        "test_path = \"kvasir_dataset/test/\""
      ],
      "metadata": {
        "id": "FFNZirZO7qav"
      },
      "execution_count": 4,
      "outputs": []
    },
    {
      "cell_type": "code",
      "source": [
        "batch_size=32\n",
        "img_height = 128\n",
        "img_width = 128"
      ],
      "metadata": {
        "id": "7ijSzNcX7uls"
      },
      "execution_count": 5,
      "outputs": []
    },
    {
      "cell_type": "code",
      "source": [
        "import tensorflow as tf"
      ],
      "metadata": {
        "id": "4ZKupHp57w7P"
      },
      "execution_count": 6,
      "outputs": []
    },
    {
      "cell_type": "code",
      "source": [
        "!rm -rf kvasir_dataset/train/.ipynb_checkpoints"
      ],
      "metadata": {
        "id": "0oz7QIam-WxI"
      },
      "execution_count": 7,
      "outputs": []
    },
    {
      "cell_type": "code",
      "source": [
        "!ls -al kvasir_dataset/test/"
      ],
      "metadata": {
        "colab": {
          "base_uri": "https://localhost:8080/"
        },
        "id": "wYrdeyfK-PAW",
        "outputId": "5010d7a1-873b-48b1-a4b5-e45220f2582f"
      },
      "execution_count": 8,
      "outputs": [
        {
          "output_type": "stream",
          "name": "stdout",
          "text": [
            "total 164\n",
            "drwxr-xr-x 8 root root  4096 Jan 17 10:36 .\n",
            "drwxr-xr-x 5 root root  4096 Jan 17 10:39 ..\n",
            "drwxr-xr-x 2 root root 20480 Jan 17 10:34 dyed-lifted-polyps\n",
            "drwxr-xr-x 2 root root 28672 Jan 17 10:35 dyed-resection-margins\n",
            "drwxr-xr-x 2 root root 24576 Jan 17 10:35 esophagitis\n",
            "drwxr-xr-x 2 root root 36864 Jan 17 10:36 normal\n",
            "drwxr-xr-x 2 root root 24576 Jan 17 10:36 polyps\n",
            "drwxr-xr-x 2 root root 24576 Jan 17 10:37 ulcerative-colitis\n"
          ]
        }
      ]
    },
    {
      "cell_type": "code",
      "source": [
        "train_ds = tf.keras.preprocessing.image_dataset_from_directory(\n",
        "  imagePaths,\n",
        "  #color_mode='grayscale',\n",
        "  validation_split=0.15,\n",
        "  subset=\"training\",\n",
        "  seed=123,\n",
        "  image_size=(img_height, img_width),\n",
        "  #label_mode=\"categorical\",\n",
        "  batch_size=batch_size)"
      ],
      "metadata": {
        "colab": {
          "base_uri": "https://localhost:8080/"
        },
        "id": "-pQ8RaOW7zJl",
        "outputId": "68e111c7-ad2d-4965-fec8-2332abaa918a"
      },
      "execution_count": 9,
      "outputs": [
        {
          "output_type": "stream",
          "name": "stdout",
          "text": [
            "Found 15300 files belonging to 6 classes.\n",
            "Using 13005 files for training.\n"
          ]
        }
      ]
    },
    {
      "cell_type": "code",
      "source": [
        "val_ds = tf.keras.preprocessing.image_dataset_from_directory(\n",
        "  imagePaths, \n",
        "  #color_mode='grayscale',\n",
        "  validation_split=0.15,\n",
        "  subset=\"validation\",\n",
        "  seed=123,\n",
        "  image_size=(img_height, img_width),\n",
        "  #label_mode=\"categorical\",\n",
        "  batch_size=batch_size)"
      ],
      "metadata": {
        "colab": {
          "base_uri": "https://localhost:8080/"
        },
        "id": "eo-YXtkn73dy",
        "outputId": "67ed9c87-d4fb-4941-91b0-69746126b8fb"
      },
      "execution_count": 10,
      "outputs": [
        {
          "output_type": "stream",
          "name": "stdout",
          "text": [
            "Found 15300 files belonging to 6 classes.\n",
            "Using 2295 files for validation.\n"
          ]
        }
      ]
    },
    {
      "cell_type": "code",
      "source": [
        "test_ds = tf.keras.preprocessing.image_dataset_from_directory(\n",
        "  test_path,\n",
        "  #seed=123,\n",
        "  image_size=(img_height, img_width),\n",
        "  #label_mode=\"categorical\",\n",
        "  batch_size=batch_size)"
      ],
      "metadata": {
        "colab": {
          "base_uri": "https://localhost:8080/"
        },
        "id": "3L4Kgm2W774o",
        "outputId": "cd7d31cc-1330-4a5f-f6c3-cdcd89ff975a"
      },
      "execution_count": 11,
      "outputs": [
        {
          "output_type": "stream",
          "name": "stdout",
          "text": [
            "Found 2700 files belonging to 6 classes.\n"
          ]
        }
      ]
    },
    {
      "cell_type": "code",
      "source": [
        "!pip install -U -q tensorflow-addons"
      ],
      "metadata": {
        "colab": {
          "base_uri": "https://localhost:8080/"
        },
        "id": "fRgyCs-A8AW7",
        "outputId": "c2179695-e2ba-4737-af62-798f131a6d0b"
      },
      "execution_count": 12,
      "outputs": [
        {
          "output_type": "stream",
          "name": "stdout",
          "text": [
            "\u001b[?25l     \u001b[90m━━━━━━━━━━━━━━━━━━━━━━━━━━━━━━━━━━━━━━━━\u001b[0m \u001b[32m0.0/1.1 MB\u001b[0m \u001b[31m?\u001b[0m eta \u001b[36m-:--:--\u001b[0m\r\u001b[2K     \u001b[90m━━━━━━━━━━━━━━━━━━━━━━━━━━━━━━━━━━━━━━━━\u001b[0m \u001b[32m1.1/1.1 MB\u001b[0m \u001b[31m37.0 MB/s\u001b[0m eta \u001b[36m0:00:00\u001b[0m\n",
            "\u001b[?25h"
          ]
        }
      ]
    },
    {
      "cell_type": "code",
      "source": [
        "from tensorflow.keras import layers\n",
        "from tensorflow import keras\n",
        "from tensorflow.keras.models import Sequential\n",
        "\n",
        "import matplotlib.pyplot as plt\n",
        "import tensorflow_addons as tfa\n",
        "import tensorflow as tf\n",
        "import numpy as np"
      ],
      "metadata": {
        "id": "9MXhUUbQ8EsN"
      },
      "execution_count": 13,
      "outputs": []
    },
    {
      "cell_type": "code",
      "source": [
        "learning_rate = 0.001\n",
        "weight_decay = 0.0001\n",
        "batch_size = batch_size\n",
        "num_epochs = 25"
      ],
      "metadata": {
        "id": "PWB_WApf8Kz7"
      },
      "execution_count": 14,
      "outputs": []
    },
    {
      "cell_type": "code",
      "source": [
        "data_augmentation= Sequential([\n",
        "                               layers.RandomBrightness(factor=0.2, value_range=(0, 255), seed=123)\n",
        "])"
      ],
      "metadata": {
        "id": "e34HQyDk8Vi5"
      },
      "execution_count": 15,
      "outputs": []
    },
    {
      "cell_type": "code",
      "source": [
        "def activation_block(x):\n",
        "    x = layers.Activation(\"gelu\")(x)\n",
        "    return layers.BatchNormalization()(x)\n",
        "\n",
        "\n",
        "def conv_stem(x, filters: int, patch_size: int):\n",
        "    x = layers.Conv2D(filters, kernel_size=patch_size, strides=patch_size)(x)\n",
        "    return activation_block(x)\n",
        "\n",
        "\n",
        "def conv_mixer_block(x, filters: int, kernel_size: int):\n",
        "    # Depthwise convolution.\n",
        "    x0 = x\n",
        "    x = layers.DepthwiseConv2D(kernel_size=kernel_size, padding=\"same\")(x)\n",
        "    x = layers.Add()([activation_block(x), x0])  # Residual.\n",
        "\n",
        "    # Pointwise convolution.\n",
        "    x = layers.Conv2D(filters, kernel_size=1)(x)\n",
        "    x = activation_block(x)\n",
        "\n",
        "    return x\n",
        "\n",
        "\n",
        "def get_conv_mixer_256_8(\n",
        "    image_size=128, filters=256, depth=8, kernel_size=5, patch_size=2, num_classes=6\n",
        "):\n",
        "    \"\"\"ConvMixer-256/8: https://openreview.net/pdf?id=TVHS5Y4dNvM.\n",
        "    The hyperparameter values are taken from the paper.\n",
        "    \"\"\"\n",
        "    inputs = keras.Input((image_size, image_size, 3))\n",
        "    x = data_augmentation(inputs)\n",
        "    x = layers.Rescaling(scale=1.0 / 255)(x)\n",
        "\n",
        "    # Extract patch embeddings.\n",
        "    x = conv_stem(x, filters, patch_size)\n",
        "\n",
        "\n",
        "    # Spatial attention.\n",
        "    attention = layers.Conv2D(filters=1, kernel_size=1)(x)\n",
        "    attention = layers.Activation('sigmoid')(attention)\n",
        "    x = layers.Multiply()([x, attention])\n",
        "\n",
        "    # ConvMixer blocks.\n",
        "    for _ in range(depth):\n",
        "        x = conv_mixer_block(x, filters, kernel_size)\n",
        "\n",
        "    # Classification block.\n",
        "    x = layers.GlobalAvgPool2D()(x)\n",
        "    outputs = layers.Dense(num_classes, activation=\"softmax\")(x)\n",
        "\n",
        "    return keras.Model(inputs, outputs)"
      ],
      "metadata": {
        "id": "YyC3wyI98igT"
      },
      "execution_count": 16,
      "outputs": []
    },
    {
      "cell_type": "code",
      "source": [
        "def run_experiment(model):\n",
        "    optimizer = tfa.optimizers.AdamW(\n",
        "        learning_rate=learning_rate, weight_decay=weight_decay\n",
        "    )\n",
        "\n",
        "    model.compile(\n",
        "        optimizer=optimizer,\n",
        "        loss=\"sparse_categorical_crossentropy\",\n",
        "        metrics=[\"accuracy\"],\n",
        "    )\n",
        "\n",
        "\n",
        "    reduce_lr = tf.keras.callbacks.ReduceLROnPlateau(monitor='val_loss', factor=0.1,\n",
        "                                  patience=6, min_lr=0.000001)\n",
        "\n",
        "    checkpoint_filepath = \"./checkpoint\"\n",
        "    checkpoint_callback = keras.callbacks.ModelCheckpoint(\n",
        "        checkpoint_filepath,\n",
        "        monitor=\"val_accuracy\",\n",
        "        save_best_only=True,\n",
        "        save_weights_only=True,\n",
        "    )\n",
        "\n",
        "    history = model.fit(\n",
        "        train_ds,\n",
        "        validation_data=val_ds,\n",
        "        epochs=num_epochs,\n",
        "        callbacks=[checkpoint_callback, reduce_lr],\n",
        "    )\n",
        "\n",
        "    model.load_weights(checkpoint_filepath)\n",
        "    _, accuracy = model.evaluate(test_ds)\n",
        "    print(f\"Test accuracy: {round(accuracy * 100, 2)}%\")\n",
        "    \n",
        "\n",
        "    return history, model"
      ],
      "metadata": {
        "id": "xU9e5Kre81rX"
      },
      "execution_count": 17,
      "outputs": []
    },
    {
      "cell_type": "code",
      "source": [
        "conv_mixer_model = get_conv_mixer_256_8()\n",
        "history, conv_mixer_model = run_experiment(conv_mixer_model)"
      ],
      "metadata": {
        "colab": {
          "base_uri": "https://localhost:8080/"
        },
        "id": "22w6phnA848T",
        "outputId": "a22c4d0b-e6b4-461c-fcb2-a29e6b8beaa8"
      },
      "execution_count": 18,
      "outputs": [
        {
          "metadata": {
            "tags": null
          },
          "name": "stderr",
          "output_type": "stream",
          "text": [
            "WARNING:tensorflow:Using a while_loop for converting RngReadAndSkip cause there is no registered converter for this op.\n",
            "WARNING:tensorflow:Using a while_loop for converting Bitcast cause there is no registered converter for this op.\n",
            "WARNING:tensorflow:Using a while_loop for converting Bitcast cause there is no registered converter for this op.\n",
            "WARNING:tensorflow:Using a while_loop for converting StatelessRandomUniformV2 cause there is no registered converter for this op.\n",
            "WARNING:tensorflow:Using a while_loop for converting RngReadAndSkip cause there is no registered converter for this op.\n",
            "WARNING:tensorflow:Using a while_loop for converting Bitcast cause there is no registered converter for this op.\n",
            "WARNING:tensorflow:Using a while_loop for converting Bitcast cause there is no registered converter for this op.\n",
            "WARNING:tensorflow:Using a while_loop for converting StatelessRandomUniformV2 cause there is no registered converter for this op.\n"
          ]
        },
        {
          "metadata": {
            "tags": null
          },
          "name": "stdout",
          "output_type": "stream",
          "text": [
            "Epoch 1/25\n"
          ]
        },
        {
          "metadata": {
            "tags": null
          },
          "name": "stderr",
          "output_type": "stream",
          "text": [
            "WARNING:tensorflow:Using a while_loop for converting RngReadAndSkip cause there is no registered converter for this op.\n",
            "WARNING:tensorflow:Using a while_loop for converting Bitcast cause there is no registered converter for this op.\n",
            "WARNING:tensorflow:Using a while_loop for converting Bitcast cause there is no registered converter for this op.\n",
            "WARNING:tensorflow:Using a while_loop for converting StatelessRandomUniformV2 cause there is no registered converter for this op.\n",
            "WARNING:tensorflow:Using a while_loop for converting RngReadAndSkip cause there is no registered converter for this op.\n",
            "WARNING:tensorflow:Using a while_loop for converting Bitcast cause there is no registered converter for this op.\n",
            "WARNING:tensorflow:Using a while_loop for converting Bitcast cause there is no registered converter for this op.\n",
            "WARNING:tensorflow:Using a while_loop for converting StatelessRandomUniformV2 cause there is no registered converter for this op.\n"
          ]
        },
        {
          "output_type": "stream",
          "name": "stdout",
          "text": [
            "407/407 [==============================] - 462s 1s/step - loss: 0.7797 - accuracy: 0.6378 - val_loss: 2.0100 - val_accuracy: 0.2209 - lr: 0.0010\n",
            "Epoch 2/25\n",
            "407/407 [==============================] - 445s 1s/step - loss: 0.6101 - accuracy: 0.7179 - val_loss: 0.7425 - val_accuracy: 0.7085 - lr: 0.0010\n",
            "Epoch 3/25\n",
            "407/407 [==============================] - 444s 1s/step - loss: 0.5051 - accuracy: 0.7872 - val_loss: 0.6553 - val_accuracy: 0.7063 - lr: 0.0010\n",
            "Epoch 4/25\n",
            "407/407 [==============================] - 441s 1s/step - loss: 0.4127 - accuracy: 0.8302 - val_loss: 0.3703 - val_accuracy: 0.8580 - lr: 0.0010\n",
            "Epoch 5/25\n",
            "407/407 [==============================] - 442s 1s/step - loss: 0.3516 - accuracy: 0.8643 - val_loss: 0.4759 - val_accuracy: 0.7978 - lr: 0.0010\n",
            "Epoch 6/25\n",
            "407/407 [==============================] - 444s 1s/step - loss: 0.3024 - accuracy: 0.8852 - val_loss: 0.4602 - val_accuracy: 0.8144 - lr: 0.0010\n",
            "Epoch 7/25\n",
            "407/407 [==============================] - 439s 1s/step - loss: 0.2601 - accuracy: 0.8958 - val_loss: 0.4232 - val_accuracy: 0.8318 - lr: 0.0010\n",
            "Epoch 8/25\n",
            "407/407 [==============================] - 440s 1s/step - loss: 0.2382 - accuracy: 0.9083 - val_loss: 0.4125 - val_accuracy: 0.8383 - lr: 0.0010\n",
            "Epoch 9/25\n",
            "407/407 [==============================] - 440s 1s/step - loss: 0.2106 - accuracy: 0.9201 - val_loss: 0.3542 - val_accuracy: 0.8627 - lr: 0.0010\n",
            "Epoch 10/25\n",
            "407/407 [==============================] - 445s 1s/step - loss: 0.1832 - accuracy: 0.9313 - val_loss: 0.2937 - val_accuracy: 0.8810 - lr: 0.0010\n",
            "Epoch 11/25\n",
            "407/407 [==============================] - 441s 1s/step - loss: 0.1707 - accuracy: 0.9356 - val_loss: 0.3167 - val_accuracy: 0.8885 - lr: 0.0010\n",
            "Epoch 12/25\n",
            "407/407 [==============================] - 442s 1s/step - loss: 0.1560 - accuracy: 0.9456 - val_loss: 0.4017 - val_accuracy: 0.8671 - lr: 0.0010\n",
            "Epoch 13/25\n",
            "407/407 [==============================] - 442s 1s/step - loss: 0.1392 - accuracy: 0.9485 - val_loss: 0.3017 - val_accuracy: 0.8850 - lr: 0.0010\n",
            "Epoch 14/25\n",
            "407/407 [==============================] - 441s 1s/step - loss: 0.1216 - accuracy: 0.9559 - val_loss: 0.2276 - val_accuracy: 0.9207 - lr: 0.0010\n",
            "Epoch 15/25\n",
            "407/407 [==============================] - 438s 1s/step - loss: 0.1198 - accuracy: 0.9549 - val_loss: 0.2921 - val_accuracy: 0.9028 - lr: 0.0010\n",
            "Epoch 16/25\n",
            "407/407 [==============================] - 441s 1s/step - loss: 0.1017 - accuracy: 0.9625 - val_loss: 0.3319 - val_accuracy: 0.8749 - lr: 0.0010\n",
            "Epoch 17/25\n",
            "407/407 [==============================] - 441s 1s/step - loss: 0.1003 - accuracy: 0.9632 - val_loss: 0.3336 - val_accuracy: 0.8789 - lr: 0.0010\n",
            "Epoch 18/25\n",
            "407/407 [==============================] - 440s 1s/step - loss: 0.0930 - accuracy: 0.9663 - val_loss: 0.3362 - val_accuracy: 0.8893 - lr: 0.0010\n",
            "Epoch 19/25\n",
            "407/407 [==============================] - 444s 1s/step - loss: 0.0929 - accuracy: 0.9657 - val_loss: 0.3681 - val_accuracy: 0.8871 - lr: 0.0010\n",
            "Epoch 20/25\n",
            "407/407 [==============================] - 441s 1s/step - loss: 0.0852 - accuracy: 0.9718 - val_loss: 0.2558 - val_accuracy: 0.9094 - lr: 0.0010\n",
            "Epoch 21/25\n",
            "407/407 [==============================] - 441s 1s/step - loss: 0.0411 - accuracy: 0.9886 - val_loss: 0.1988 - val_accuracy: 0.9307 - lr: 1.0000e-04\n",
            "Epoch 22/25\n",
            "407/407 [==============================] - 444s 1s/step - loss: 0.0265 - accuracy: 0.9951 - val_loss: 0.1919 - val_accuracy: 0.9329 - lr: 1.0000e-04\n",
            "Epoch 23/25\n",
            "407/407 [==============================] - 441s 1s/step - loss: 0.0239 - accuracy: 0.9960 - val_loss: 0.1992 - val_accuracy: 0.9294 - lr: 1.0000e-04\n",
            "Epoch 24/25\n",
            "407/407 [==============================] - 441s 1s/step - loss: 0.0241 - accuracy: 0.9968 - val_loss: 0.1968 - val_accuracy: 0.9329 - lr: 1.0000e-04\n",
            "Epoch 25/25\n",
            "407/407 [==============================] - 441s 1s/step - loss: 0.0231 - accuracy: 0.9971 - val_loss: 0.2187 - val_accuracy: 0.9207 - lr: 1.0000e-04\n",
            "85/85 [==============================] - 46s 489ms/step - loss: 0.1830 - accuracy: 0.9337\n",
            "Test accuracy: 93.37%\n"
          ]
        }
      ]
    },
    {
      "cell_type": "code",
      "source": [
        "!unzip -qq convmixer_chck.zip"
      ],
      "metadata": {
        "id": "Q9kr9dmr1b_f"
      },
      "execution_count": null,
      "outputs": []
    },
    {
      "cell_type": "code",
      "source": [
        "\"\"\"conv_mixer_model = get_conv_mixer_256_8()\n",
        "conv_mixer_model.load_weights('./checkpoints/checkpoint')\"\"\""
      ],
      "metadata": {
        "colab": {
          "base_uri": "https://localhost:8080/"
        },
        "id": "S4osGJzv1kYg",
        "outputId": "9be008b1-6714-4e1b-c892-a3bdf36a64ac"
      },
      "execution_count": null,
      "outputs": [
        {
          "output_type": "execute_result",
          "data": {
            "text/plain": [
              "<tensorflow.python.training.tracking.util.CheckpointLoadStatus at 0x7f54d1c6ea90>"
            ]
          },
          "metadata": {},
          "execution_count": 17
        }
      ]
    },
    {
      "cell_type": "code",
      "source": [
        "\"\"\"optimizer = tfa.optimizers.AdamW(\n",
        "        learning_rate=learning_rate, weight_decay=weight_decay\n",
        "    )\n",
        "conv_mixer_model.compile(\n",
        "        optimizer=optimizer,\n",
        "        loss=\"sparse_categorical_crossentropy\",\n",
        "        metrics=[\"accuracy\"],\n",
        "    )\"\"\""
      ],
      "metadata": {
        "id": "OzM143-911y3"
      },
      "execution_count": null,
      "outputs": []
    },
    {
      "cell_type": "code",
      "source": [
        "predictions = np.array([])\n",
        "labels =  np.array([])\n",
        "cnt=1\n",
        "for x, y in test_ds:\n",
        "  Y_pred=conv_mixer_model.predict(x)\n",
        "  y_prediction = np.argmax(Y_pred, axis=1)\n",
        "  predictions = np.concatenate([predictions, y_prediction])\n",
        "  labels = np.concatenate([labels, y.numpy()])"
      ],
      "metadata": {
        "colab": {
          "base_uri": "https://localhost:8080/"
        },
        "id": "0XBg4UZnkRGD",
        "outputId": "8a3a0121-ad74-4d44-dca1-fa9c67c9caef"
      },
      "execution_count": 19,
      "outputs": [
        {
          "output_type": "stream",
          "name": "stdout",
          "text": [
            "1/1 [==============================] - 1s 1s/step\n",
            "1/1 [==============================] - 0s 90ms/step\n",
            "1/1 [==============================] - 0s 82ms/step\n",
            "1/1 [==============================] - 0s 150ms/step\n",
            "1/1 [==============================] - 0s 138ms/step\n",
            "1/1 [==============================] - 0s 124ms/step\n",
            "1/1 [==============================] - 0s 112ms/step\n",
            "1/1 [==============================] - 0s 128ms/step\n",
            "1/1 [==============================] - 0s 145ms/step\n",
            "1/1 [==============================] - 0s 199ms/step\n",
            "1/1 [==============================] - 0s 149ms/step\n",
            "1/1 [==============================] - 0s 124ms/step\n",
            "1/1 [==============================] - 0s 97ms/step\n",
            "1/1 [==============================] - 0s 87ms/step\n",
            "1/1 [==============================] - 0s 127ms/step\n",
            "1/1 [==============================] - 0s 338ms/step\n",
            "1/1 [==============================] - 0s 251ms/step\n",
            "1/1 [==============================] - 0s 303ms/step\n",
            "1/1 [==============================] - 0s 197ms/step\n",
            "1/1 [==============================] - 0s 204ms/step\n",
            "1/1 [==============================] - 0s 116ms/step\n",
            "1/1 [==============================] - 0s 120ms/step\n",
            "1/1 [==============================] - 0s 108ms/step\n",
            "1/1 [==============================] - 0s 129ms/step\n",
            "1/1 [==============================] - 0s 79ms/step\n",
            "1/1 [==============================] - 0s 172ms/step\n",
            "1/1 [==============================] - 0s 167ms/step\n",
            "1/1 [==============================] - 0s 125ms/step\n",
            "1/1 [==============================] - 0s 275ms/step\n",
            "1/1 [==============================] - 0s 218ms/step\n",
            "1/1 [==============================] - 0s 248ms/step\n",
            "1/1 [==============================] - 0s 133ms/step\n",
            "1/1 [==============================] - 0s 145ms/step\n",
            "1/1 [==============================] - 0s 71ms/step\n",
            "1/1 [==============================] - 0s 96ms/step\n",
            "1/1 [==============================] - 0s 75ms/step\n",
            "1/1 [==============================] - 0s 91ms/step\n",
            "1/1 [==============================] - 0s 56ms/step\n",
            "1/1 [==============================] - 0s 72ms/step\n",
            "1/1 [==============================] - 0s 43ms/step\n",
            "1/1 [==============================] - 0s 43ms/step\n",
            "1/1 [==============================] - 0s 44ms/step\n",
            "1/1 [==============================] - 0s 57ms/step\n",
            "1/1 [==============================] - 0s 41ms/step\n",
            "1/1 [==============================] - 0s 50ms/step\n",
            "1/1 [==============================] - 0s 32ms/step\n",
            "1/1 [==============================] - 0s 68ms/step\n",
            "1/1 [==============================] - 0s 76ms/step\n",
            "1/1 [==============================] - 0s 90ms/step\n",
            "1/1 [==============================] - 0s 102ms/step\n",
            "1/1 [==============================] - 0s 64ms/step\n",
            "1/1 [==============================] - 0s 76ms/step\n",
            "1/1 [==============================] - 0s 123ms/step\n",
            "1/1 [==============================] - 0s 72ms/step\n",
            "1/1 [==============================] - 0s 51ms/step\n",
            "1/1 [==============================] - 0s 58ms/step\n",
            "1/1 [==============================] - 0s 71ms/step\n",
            "1/1 [==============================] - 0s 42ms/step\n",
            "1/1 [==============================] - 0s 34ms/step\n",
            "1/1 [==============================] - 0s 57ms/step\n",
            "1/1 [==============================] - 0s 72ms/step\n",
            "1/1 [==============================] - 0s 67ms/step\n",
            "1/1 [==============================] - 0s 71ms/step\n",
            "1/1 [==============================] - 0s 83ms/step\n",
            "1/1 [==============================] - 0s 51ms/step\n",
            "1/1 [==============================] - 0s 51ms/step\n",
            "1/1 [==============================] - 0s 100ms/step\n",
            "1/1 [==============================] - 0s 86ms/step\n",
            "1/1 [==============================] - 0s 111ms/step\n",
            "1/1 [==============================] - 0s 113ms/step\n",
            "1/1 [==============================] - 0s 90ms/step\n",
            "1/1 [==============================] - 0s 109ms/step\n",
            "1/1 [==============================] - 0s 69ms/step\n",
            "1/1 [==============================] - 0s 96ms/step\n",
            "1/1 [==============================] - 0s 74ms/step\n",
            "1/1 [==============================] - 0s 68ms/step\n",
            "1/1 [==============================] - 0s 35ms/step\n",
            "1/1 [==============================] - 0s 38ms/step\n",
            "1/1 [==============================] - 0s 34ms/step\n",
            "1/1 [==============================] - 0s 41ms/step\n",
            "1/1 [==============================] - 0s 24ms/step\n",
            "1/1 [==============================] - 0s 24ms/step\n",
            "1/1 [==============================] - 0s 25ms/step\n",
            "1/1 [==============================] - 0s 24ms/step\n",
            "1/1 [==============================] - 0s 445ms/step\n"
          ]
        }
      ]
    },
    {
      "cell_type": "code",
      "source": [
        "predictions"
      ],
      "metadata": {
        "colab": {
          "base_uri": "https://localhost:8080/"
        },
        "id": "sc2-O26ioHBr",
        "outputId": "c33a6b2b-1a2a-4fd1-88e7-f43607a0ebf8"
      },
      "execution_count": null,
      "outputs": [
        {
          "output_type": "execute_result",
          "data": {
            "text/plain": [
              "array([0., 3., 1., ..., 4., 5., 0.])"
            ]
          },
          "metadata": {},
          "execution_count": 22
        }
      ]
    },
    {
      "cell_type": "code",
      "source": [
        "labels"
      ],
      "metadata": {
        "colab": {
          "base_uri": "https://localhost:8080/"
        },
        "id": "hxJfphHeoIRN",
        "outputId": "28e09dfd-e2e1-4ee2-e96f-fe17d92ac3d3"
      },
      "execution_count": null,
      "outputs": [
        {
          "output_type": "execute_result",
          "data": {
            "text/plain": [
              "array([0., 3., 0., ..., 4., 5., 0.])"
            ]
          },
          "metadata": {},
          "execution_count": 23
        }
      ]
    },
    {
      "cell_type": "code",
      "source": [
        "from sklearn.metrics import classification_report, confusion_matrix"
      ],
      "metadata": {
        "id": "ZPKP28tf2DlV"
      },
      "execution_count": 20,
      "outputs": []
    },
    {
      "cell_type": "code",
      "source": [
        "print('Confusion Matrix')\n",
        "print(confusion_matrix(y_true=labels, y_pred=predictions))"
      ],
      "metadata": {
        "colab": {
          "base_uri": "https://localhost:8080/"
        },
        "id": "7AoM6BOl2QAm",
        "outputId": "24602509-3c14-4a61-e065-8eefe3af642d"
      },
      "execution_count": 21,
      "outputs": [
        {
          "output_type": "stream",
          "name": "stdout",
          "text": [
            "Confusion Matrix\n",
            "[[422  25   0   1   2   0]\n",
            " [ 23 427   0   0   0   0]\n",
            " [  0   0 404  46   0   0]\n",
            " [  0   0  16 431   1   2]\n",
            " [  1   0   0  20 418  11]\n",
            " [  0   0   1  15  15 419]]\n"
          ]
        }
      ]
    },
    {
      "cell_type": "code",
      "source": [
        "classes=['dyed-lifted-polyps','dyed-resection-margins', 'esophagitis','normal','polyps', 'ulcerative-colitis']"
      ],
      "metadata": {
        "id": "bY-PyzLn2Vi1"
      },
      "execution_count": 22,
      "outputs": []
    },
    {
      "cell_type": "code",
      "source": [
        "print('Classification Report')\n",
        "target_names = classes\n",
        "print(classification_report(y_true=labels, y_pred=predictions, target_names=target_names))"
      ],
      "metadata": {
        "colab": {
          "base_uri": "https://localhost:8080/"
        },
        "id": "0YbLtoqf2aE7",
        "outputId": "182faca2-d9af-4946-8773-96dc3a5cb5a2"
      },
      "execution_count": 23,
      "outputs": [
        {
          "output_type": "stream",
          "name": "stdout",
          "text": [
            "Classification Report\n",
            "                        precision    recall  f1-score   support\n",
            "\n",
            "    dyed-lifted-polyps       0.95      0.94      0.94       450\n",
            "dyed-resection-margins       0.94      0.95      0.95       450\n",
            "           esophagitis       0.96      0.90      0.93       450\n",
            "                normal       0.84      0.96      0.90       450\n",
            "                polyps       0.96      0.93      0.94       450\n",
            "    ulcerative-colitis       0.97      0.93      0.95       450\n",
            "\n",
            "              accuracy                           0.93      2700\n",
            "             macro avg       0.94      0.93      0.93      2700\n",
            "          weighted avg       0.94      0.93      0.93      2700\n",
            "\n"
          ]
        }
      ]
    },
    {
      "cell_type": "code",
      "source": [
        "import itertools\n",
        "def plot_confusion_matrix(cm, classes,\n",
        "                          normalize = False,\n",
        "                          title = 'Confusion Matrix',\n",
        "                          cmap = plt.cm.Reds):\n",
        "    \n",
        "    plt.figure(figsize = (6,6))\n",
        "    plt.imshow(cm, interpolation = 'nearest', cmap = cmap)\n",
        "    plt.title(title)\n",
        "    plt.colorbar()\n",
        "    plt.grid(False)\n",
        "    tick_marks = np.arange(len(classes))\n",
        "    plt.xticks(tick_marks, classes, rotation = 90)\n",
        "    plt.yticks(tick_marks, classes)\n",
        "    if normalize:\n",
        "        cm = cm.astype('float') / cm.sum(axis = 1)[:, np.newaxis]\n",
        "\n",
        "    thresh = cm.max() / 2.\n",
        "    cm = np.round(cm,2)\n",
        "    for i, j in itertools.product(range(cm.shape[0]), range(cm.shape[1])):\n",
        "        plt.text(j, i, cm[i, j],\n",
        "                 fontsize = 12,\n",
        "                 horizontalalignment = \"center\",\n",
        "                 color = \"white\" if cm[i, j] > thresh else \"black\")\n",
        "    plt.tight_layout()\n",
        "    plt.ylabel('True label')\n",
        "    plt.xlabel('Predicted label')\n",
        "    plt.show()\n",
        "#get confusion matrix\n",
        "cm = confusion_matrix(labels, predictions)\n",
        "print(cm)\n",
        "\n",
        "#plot\n",
        "plot_confusion_matrix(cm, classes, normalize=False)"
      ],
      "metadata": {
        "colab": {
          "base_uri": "https://localhost:8080/",
          "height": 548
        },
        "id": "lxwIFANlB4mD",
        "outputId": "5dff1f8c-c402-48ce-c85f-1e7a5892522c"
      },
      "execution_count": 24,
      "outputs": [
        {
          "output_type": "stream",
          "name": "stdout",
          "text": [
            "[[422  25   0   1   2   0]\n",
            " [ 23 427   0   0   0   0]\n",
            " [  0   0 404  46   0   0]\n",
            " [  0   0  16 431   1   2]\n",
            " [  1   0   0  20 418  11]\n",
            " [  0   0   1  15  15 419]]\n"
          ]
        },
        {
          "output_type": "display_data",
          "data": {
            "text/plain": [
              "<Figure size 432x432 with 2 Axes>"
            ],
            "image/png": "[encoded data removed]"
          },
          "metadata": {
            "needs_background": "light"
          }
        }
      ]
    },
    {
      "cell_type": "code",
      "source": [
        "import itertools\n",
        "def plot_confusion_matrix(cm, classes,\n",
        "                          normalize = False,\n",
        "                          title = 'Confusion Matrix',\n",
        "                          cmap = plt.cm.Blues):\n",
        "    \n",
        "    plt.figure(figsize = (6,6))\n",
        "    plt.imshow(cm, interpolation = 'nearest', cmap = cmap)\n",
        "    plt.title(title)\n",
        "    plt.colorbar()\n",
        "    plt.grid(False)\n",
        "    tick_marks = np.arange(len(classes))\n",
        "    plt.xticks(tick_marks, classes, rotation = 90)\n",
        "    plt.yticks(tick_marks, classes)\n",
        "    if normalize:\n",
        "        cm = cm.astype('float') / cm.sum(axis = 1)[:, np.newaxis]\n",
        "\n",
        "    thresh = cm.max() / 2.\n",
        "    cm = np.round(cm,2)\n",
        "    for i, j in itertools.product(range(cm.shape[0]), range(cm.shape[1])):\n",
        "        plt.text(j, i, cm[i, j],\n",
        "                 fontsize = 12,\n",
        "                 horizontalalignment = \"center\",\n",
        "                 color = \"white\" if cm[i, j] > thresh else \"black\")\n",
        "    plt.tight_layout()\n",
        "    plt.ylabel('True label')\n",
        "    plt.xlabel('Predicted label')\n",
        "    plt.show()\n",
        "#get confusion matrix\n",
        "cm = confusion_matrix(labels, predictions)\n",
        "print(cm)\n",
        "\n",
        "#plot\n",
        "plot_confusion_matrix(cm, classes, normalize=False)"
      ],
      "metadata": {
        "colab": {
          "base_uri": "https://localhost:8080/",
          "height": 548
        },
        "id": "UX-bIw1UCErV",
        "outputId": "35ce836b-723c-4a4f-a8b5-a8d35a660cf0"
      },
      "execution_count": 25,
      "outputs": [
        {
          "output_type": "stream",
          "name": "stdout",
          "text": [
            "[[422  25   0   1   2   0]\n",
            " [ 23 427   0   0   0   0]\n",
            " [  0   0 404  46   0   0]\n",
            " [  0   0  16 431   1   2]\n",
            " [  1   0   0  20 418  11]\n",
            " [  0   0   1  15  15 419]]\n"
          ]
        },
        {
          "output_type": "display_data",
          "data": {
            "text/plain": [
              "<Figure size 432x432 with 2 Axes>"
            ],
            "image/png": "[encoded data removed]"
          },
          "metadata": {
            "needs_background": "light"
          }
        }
      ]
    },
    {
      "cell_type": "code",
      "source": [
        "import itertools\n",
        "def plot_confusion_matrix(cm, classes,\n",
        "                          normalize = False,\n",
        "                          title = 'Confusion Matrix',\n",
        "                          cmap = plt.cm.Greens):\n",
        "    \n",
        "    plt.figure(figsize = (6,6))\n",
        "    plt.imshow(cm, interpolation = 'nearest', cmap = cmap)\n",
        "    plt.title(title)\n",
        "    plt.colorbar()\n",
        "    plt.grid(False)\n",
        "    tick_marks = np.arange(len(classes))\n",
        "    plt.xticks(tick_marks, classes, rotation = 90)\n",
        "    plt.yticks(tick_marks, classes)\n",
        "    if normalize:\n",
        "        cm = cm.astype('float') / cm.sum(axis = 1)[:, np.newaxis]\n",
        "\n",
        "    thresh = cm.max() / 2.\n",
        "    cm = np.round(cm,2)\n",
        "    for i, j in itertools.product(range(cm.shape[0]), range(cm.shape[1])):\n",
        "        plt.text(j, i, cm[i, j],\n",
        "                 fontsize = 12,\n",
        "                 horizontalalignment = \"center\",\n",
        "                 color = \"white\" if cm[i, j] > thresh else \"black\")\n",
        "    plt.tight_layout()\n",
        "    plt.ylabel('True label')\n",
        "    plt.xlabel('Predicted label')\n",
        "    plt.show()\n",
        "#get confusion matrix\n",
        "cm = confusion_matrix(labels, predictions)\n",
        "print(cm)\n",
        "\n",
        "#plot\n",
        "plot_confusion_matrix(cm, classes, normalize=False)"
      ],
      "metadata": {
        "colab": {
          "base_uri": "https://localhost:8080/",
          "height": 548
        },
        "id": "3SAQEwzpCHs0",
        "outputId": "a750be04-ec7b-4962-e8f0-08a8e5e0e0e2"
      },
      "execution_count": 26,
      "outputs": [
        {
          "output_type": "stream",
          "name": "stdout",
          "text": [
            "[[422  25   0   1   2   0]\n",
            " [ 23 427   0   0   0   0]\n",
            " [  0   0 404  46   0   0]\n",
            " [  0   0  16 431   1   2]\n",
            " [  1   0   0  20 418  11]\n",
            " [  0   0   1  15  15 419]]\n"
          ]
        },
        {
          "output_type": "display_data",
          "data": {
            "text/plain": [
              "<Figure size 432x432 with 2 Axes>"
            ],
            "image/png": "[encoded data removed]"
          },
          "metadata": {
            "needs_background": "light"
          }
        }
      ]
    },
    {
      "cell_type": "code",
      "source": [
        "def visualization_plot(weights, idx=1):\n",
        "    # First, apply min-max normalization to the\n",
        "    # given weights to avoid isotrophic scaling.\n",
        "    p_min, p_max = weights.min(), weights.max()\n",
        "    weights = (weights - p_min) / (p_max - p_min)\n",
        "\n",
        "    # Visualize all the filters.\n",
        "    num_filters = 256\n",
        "    plt.figure(figsize=(8, 8))\n",
        "\n",
        "    for i in range(num_filters):\n",
        "        current_weight = weights[:, :, :, i]\n",
        "        if current_weight.shape[-1] == 1:\n",
        "            current_weight = current_weight.squeeze()\n",
        "        ax = plt.subplot(16, 16, idx)\n",
        "        ax.set_xticks([])\n",
        "        ax.set_yticks([])\n",
        "        plt.imshow(current_weight)\n",
        "        idx += 1\n",
        "\n",
        "\n",
        "# We first visualize the learned patch embeddings.\n",
        "patch_embeddings = conv_mixer_model.layers[2].get_weights()[0]\n",
        "visualization_plot(patch_embeddings)"
      ],
      "metadata": {
        "colab": {
          "base_uri": "https://localhost:8080/",
          "height": 222
        },
        "id": "_PNHT6hX_O7C",
        "outputId": "498b22ba-ebc4-406b-81b2-fc715e075a4f"
      },
      "execution_count": null,
      "outputs": [
        {
          "output_type": "error",
          "ename": "IndexError",
          "evalue": "ignored",
          "traceback": [
            "\u001b[0;31m---------------------------------------------------------------------------\u001b[0m",
            "\u001b[0;31mIndexError\u001b[0m                                Traceback (most recent call last)",
            "\u001b[0;32m<ipython-input-47-8e05e18e85ea>\u001b[0m in \u001b[0;36m<module>\u001b[0;34m\u001b[0m\n\u001b[1;32m     21\u001b[0m \u001b[0;34m\u001b[0m\u001b[0m\n\u001b[1;32m     22\u001b[0m \u001b[0;31m# We first visualize the learned patch embeddings.\u001b[0m\u001b[0;34m\u001b[0m\u001b[0;34m\u001b[0m\u001b[0;34m\u001b[0m\u001b[0m\n\u001b[0;32m---> 23\u001b[0;31m \u001b[0mpatch_embeddings\u001b[0m \u001b[0;34m=\u001b[0m \u001b[0mconv_mixer_model\u001b[0m\u001b[0;34m.\u001b[0m\u001b[0mlayers\u001b[0m\u001b[0;34m[\u001b[0m\u001b[0;36m2\u001b[0m\u001b[0;34m]\u001b[0m\u001b[0;34m.\u001b[0m\u001b[0mget_weights\u001b[0m\u001b[0;34m(\u001b[0m\u001b[0;34m)\u001b[0m\u001b[0;34m[\u001b[0m\u001b[0;36m0\u001b[0m\u001b[0;34m]\u001b[0m\u001b[0;34m\u001b[0m\u001b[0;34m\u001b[0m\u001b[0m\n\u001b[0m\u001b[1;32m     24\u001b[0m \u001b[0mvisualization_plot\u001b[0m\u001b[0;34m(\u001b[0m\u001b[0mpatch_embeddings\u001b[0m\u001b[0;34m)\u001b[0m\u001b[0;34m\u001b[0m\u001b[0;34m\u001b[0m\u001b[0m\n",
            "\u001b[0;31mIndexError\u001b[0m: list index out of range"
          ]
        }
      ]
    },
    {
      "cell_type": "code",
      "source": [
        "# First, print the indices of the convolution layers that are not\n",
        "# pointwise convolutions.\n",
        "for i, layer in enumerate(conv_mixer_model.layers):\n",
        "    if isinstance(layer, layers.DepthwiseConv2D):\n",
        "        if layer.get_config()[\"kernel_size\"] == (5, 5):\n",
        "            print(i, layer)\n",
        "\n",
        "idx = 26  # Taking a kernel from the middle of the network.\n",
        "\n",
        "kernel = conv_mixer_model.layers[idx].get_weights()[0]\n",
        "kernel = np.expand_dims(kernel.squeeze(), axis=2)\n",
        "visualization_plot(kernel)"
      ],
      "metadata": {
        "colab": {
          "base_uri": "https://localhost:8080/",
          "height": 550
        },
        "id": "bli3mb5l_VdY",
        "outputId": "8f622fcb-99e7-403e-de7f-8964f0532a26"
      },
      "execution_count": null,
      "outputs": [
        {
          "output_type": "stream",
          "name": "stdout",
          "text": [
            "6 <keras.layers.convolutional.depthwise_conv2d.DepthwiseConv2D object at 0x7f8c5c7cadc0>\n",
            "13 <keras.layers.convolutional.depthwise_conv2d.DepthwiseConv2D object at 0x7f8c5c370730>\n",
            "20 <keras.layers.convolutional.depthwise_conv2d.DepthwiseConv2D object at 0x7f8c5c372310>\n",
            "27 <keras.layers.convolutional.depthwise_conv2d.DepthwiseConv2D object at 0x7f8c5c6d1610>\n",
            "34 <keras.layers.convolutional.depthwise_conv2d.DepthwiseConv2D object at 0x7f8c5c4cbaf0>\n",
            "41 <keras.layers.convolutional.depthwise_conv2d.DepthwiseConv2D object at 0x7f8c5c74fa90>\n",
            "48 <keras.layers.convolutional.depthwise_conv2d.DepthwiseConv2D object at 0x7f8c5c4d90a0>\n",
            "55 <keras.layers.convolutional.depthwise_conv2d.DepthwiseConv2D object at 0x7f8c5c6b7100>\n"
          ]
        },
        {
          "output_type": "error",
          "ename": "AxisError",
          "evalue": "ignored",
          "traceback": [
            "\u001b[0;31m---------------------------------------------------------------------------\u001b[0m",
            "\u001b[0;31mAxisError\u001b[0m                                 Traceback (most recent call last)",
            "\u001b[0;32m<ipython-input-48-c056525429b3>\u001b[0m in \u001b[0;36m<module>\u001b[0;34m\u001b[0m\n\u001b[1;32m      9\u001b[0m \u001b[0;34m\u001b[0m\u001b[0m\n\u001b[1;32m     10\u001b[0m \u001b[0mkernel\u001b[0m \u001b[0;34m=\u001b[0m \u001b[0mconv_mixer_model\u001b[0m\u001b[0;34m.\u001b[0m\u001b[0mlayers\u001b[0m\u001b[0;34m[\u001b[0m\u001b[0midx\u001b[0m\u001b[0;34m]\u001b[0m\u001b[0;34m.\u001b[0m\u001b[0mget_weights\u001b[0m\u001b[0;34m(\u001b[0m\u001b[0;34m)\u001b[0m\u001b[0;34m[\u001b[0m\u001b[0;36m0\u001b[0m\u001b[0;34m]\u001b[0m\u001b[0;34m\u001b[0m\u001b[0;34m\u001b[0m\u001b[0m\n\u001b[0;32m---> 11\u001b[0;31m \u001b[0mkernel\u001b[0m \u001b[0;34m=\u001b[0m \u001b[0mnp\u001b[0m\u001b[0;34m.\u001b[0m\u001b[0mexpand_dims\u001b[0m\u001b[0;34m(\u001b[0m\u001b[0mkernel\u001b[0m\u001b[0;34m.\u001b[0m\u001b[0msqueeze\u001b[0m\u001b[0;34m(\u001b[0m\u001b[0;34m)\u001b[0m\u001b[0;34m,\u001b[0m \u001b[0maxis\u001b[0m\u001b[0;34m=\u001b[0m\u001b[0;36m2\u001b[0m\u001b[0;34m)\u001b[0m\u001b[0;34m\u001b[0m\u001b[0;34m\u001b[0m\u001b[0m\n\u001b[0m\u001b[1;32m     12\u001b[0m \u001b[0mvisualization_plot\u001b[0m\u001b[0;34m(\u001b[0m\u001b[0mkernel\u001b[0m\u001b[0;34m)\u001b[0m\u001b[0;34m\u001b[0m\u001b[0;34m\u001b[0m\u001b[0m\n",
            "\u001b[0;32m<__array_function__ internals>\u001b[0m in \u001b[0;36mexpand_dims\u001b[0;34m(*args, **kwargs)\u001b[0m\n",
            "\u001b[0;32m/usr/local/lib/python3.8/dist-packages/numpy/lib/shape_base.py\u001b[0m in \u001b[0;36mexpand_dims\u001b[0;34m(a, axis)\u001b[0m\n\u001b[1;32m    595\u001b[0m \u001b[0;34m\u001b[0m\u001b[0m\n\u001b[1;32m    596\u001b[0m     \u001b[0mout_ndim\u001b[0m \u001b[0;34m=\u001b[0m \u001b[0mlen\u001b[0m\u001b[0;34m(\u001b[0m\u001b[0maxis\u001b[0m\u001b[0;34m)\u001b[0m \u001b[0;34m+\u001b[0m \u001b[0ma\u001b[0m\u001b[0;34m.\u001b[0m\u001b[0mndim\u001b[0m\u001b[0;34m\u001b[0m\u001b[0;34m\u001b[0m\u001b[0m\n\u001b[0;32m--> 597\u001b[0;31m     \u001b[0maxis\u001b[0m \u001b[0;34m=\u001b[0m \u001b[0mnormalize_axis_tuple\u001b[0m\u001b[0;34m(\u001b[0m\u001b[0maxis\u001b[0m\u001b[0;34m,\u001b[0m \u001b[0mout_ndim\u001b[0m\u001b[0;34m)\u001b[0m\u001b[0;34m\u001b[0m\u001b[0;34m\u001b[0m\u001b[0m\n\u001b[0m\u001b[1;32m    598\u001b[0m \u001b[0;34m\u001b[0m\u001b[0m\n\u001b[1;32m    599\u001b[0m     \u001b[0mshape_it\u001b[0m \u001b[0;34m=\u001b[0m \u001b[0miter\u001b[0m\u001b[0;34m(\u001b[0m\u001b[0ma\u001b[0m\u001b[0;34m.\u001b[0m\u001b[0mshape\u001b[0m\u001b[0;34m)\u001b[0m\u001b[0;34m\u001b[0m\u001b[0;34m\u001b[0m\u001b[0m\n",
            "\u001b[0;32m/usr/local/lib/python3.8/dist-packages/numpy/core/numeric.py\u001b[0m in \u001b[0;36mnormalize_axis_tuple\u001b[0;34m(axis, ndim, argname, allow_duplicate)\u001b[0m\n\u001b[1;32m   1383\u001b[0m             \u001b[0;32mpass\u001b[0m\u001b[0;34m\u001b[0m\u001b[0;34m\u001b[0m\u001b[0m\n\u001b[1;32m   1384\u001b[0m     \u001b[0;31m# Going via an iterator directly is slower than via list comprehension.\u001b[0m\u001b[0;34m\u001b[0m\u001b[0;34m\u001b[0m\u001b[0;34m\u001b[0m\u001b[0m\n\u001b[0;32m-> 1385\u001b[0;31m     \u001b[0maxis\u001b[0m \u001b[0;34m=\u001b[0m \u001b[0mtuple\u001b[0m\u001b[0;34m(\u001b[0m\u001b[0;34m[\u001b[0m\u001b[0mnormalize_axis_index\u001b[0m\u001b[0;34m(\u001b[0m\u001b[0max\u001b[0m\u001b[0;34m,\u001b[0m \u001b[0mndim\u001b[0m\u001b[0;34m,\u001b[0m \u001b[0margname\u001b[0m\u001b[0;34m)\u001b[0m \u001b[0;32mfor\u001b[0m \u001b[0max\u001b[0m \u001b[0;32min\u001b[0m \u001b[0maxis\u001b[0m\u001b[0;34m]\u001b[0m\u001b[0;34m)\u001b[0m\u001b[0;34m\u001b[0m\u001b[0;34m\u001b[0m\u001b[0m\n\u001b[0m\u001b[1;32m   1386\u001b[0m     \u001b[0;32mif\u001b[0m \u001b[0;32mnot\u001b[0m \u001b[0mallow_duplicate\u001b[0m \u001b[0;32mand\u001b[0m \u001b[0mlen\u001b[0m\u001b[0;34m(\u001b[0m\u001b[0mset\u001b[0m\u001b[0;34m(\u001b[0m\u001b[0maxis\u001b[0m\u001b[0;34m)\u001b[0m\u001b[0;34m)\u001b[0m \u001b[0;34m!=\u001b[0m \u001b[0mlen\u001b[0m\u001b[0;34m(\u001b[0m\u001b[0maxis\u001b[0m\u001b[0;34m)\u001b[0m\u001b[0;34m:\u001b[0m\u001b[0;34m\u001b[0m\u001b[0;34m\u001b[0m\u001b[0m\n\u001b[1;32m   1387\u001b[0m         \u001b[0;32mif\u001b[0m \u001b[0margname\u001b[0m\u001b[0;34m:\u001b[0m\u001b[0;34m\u001b[0m\u001b[0;34m\u001b[0m\u001b[0m\n",
            "\u001b[0;32m/usr/local/lib/python3.8/dist-packages/numpy/core/numeric.py\u001b[0m in \u001b[0;36m<listcomp>\u001b[0;34m(.0)\u001b[0m\n\u001b[1;32m   1383\u001b[0m             \u001b[0;32mpass\u001b[0m\u001b[0;34m\u001b[0m\u001b[0;34m\u001b[0m\u001b[0m\n\u001b[1;32m   1384\u001b[0m     \u001b[0;31m# Going via an iterator directly is slower than via list comprehension.\u001b[0m\u001b[0;34m\u001b[0m\u001b[0;34m\u001b[0m\u001b[0;34m\u001b[0m\u001b[0m\n\u001b[0;32m-> 1385\u001b[0;31m     \u001b[0maxis\u001b[0m \u001b[0;34m=\u001b[0m \u001b[0mtuple\u001b[0m\u001b[0;34m(\u001b[0m\u001b[0;34m[\u001b[0m\u001b[0mnormalize_axis_index\u001b[0m\u001b[0;34m(\u001b[0m\u001b[0max\u001b[0m\u001b[0;34m,\u001b[0m \u001b[0mndim\u001b[0m\u001b[0;34m,\u001b[0m \u001b[0margname\u001b[0m\u001b[0;34m)\u001b[0m \u001b[0;32mfor\u001b[0m \u001b[0max\u001b[0m \u001b[0;32min\u001b[0m \u001b[0maxis\u001b[0m\u001b[0;34m]\u001b[0m\u001b[0;34m)\u001b[0m\u001b[0;34m\u001b[0m\u001b[0;34m\u001b[0m\u001b[0m\n\u001b[0m\u001b[1;32m   1386\u001b[0m     \u001b[0;32mif\u001b[0m \u001b[0;32mnot\u001b[0m \u001b[0mallow_duplicate\u001b[0m \u001b[0;32mand\u001b[0m \u001b[0mlen\u001b[0m\u001b[0;34m(\u001b[0m\u001b[0mset\u001b[0m\u001b[0;34m(\u001b[0m\u001b[0maxis\u001b[0m\u001b[0;34m)\u001b[0m\u001b[0;34m)\u001b[0m \u001b[0;34m!=\u001b[0m \u001b[0mlen\u001b[0m\u001b[0;34m(\u001b[0m\u001b[0maxis\u001b[0m\u001b[0;34m)\u001b[0m\u001b[0;34m:\u001b[0m\u001b[0;34m\u001b[0m\u001b[0;34m\u001b[0m\u001b[0m\n\u001b[1;32m   1387\u001b[0m         \u001b[0;32mif\u001b[0m \u001b[0margname\u001b[0m\u001b[0;34m:\u001b[0m\u001b[0;34m\u001b[0m\u001b[0;34m\u001b[0m\u001b[0m\n",
            "\u001b[0;31mAxisError\u001b[0m: axis 2 is out of bounds for array of dimension 2"
          ]
        }
      ]
    },
    {
      "cell_type": "code",
      "source": [
        "!mkdir checkpoints\n",
        "!cp checkpoint ./checkpoints\n",
        "!cp checkpoint.data-00000-of-00001 ./checkpoints\n",
        "!cp checkpoint.index ./checkpoints"
      ],
      "metadata": {
        "id": "jRhWzWCJ4LMY"
      },
      "execution_count": 27,
      "outputs": []
    },
    {
      "cell_type": "code",
      "source": [
        "!zip -r spatialconvmixer_chck.zip checkpoints"
      ],
      "metadata": {
        "colab": {
          "base_uri": "https://localhost:8080/"
        },
        "id": "Q5m7n-RG1gYi",
        "outputId": "bdef839a-b502-41e3-db91-781d2a95c395"
      },
      "execution_count": 28,
      "outputs": [
        {
          "output_type": "stream",
          "name": "stdout",
          "text": [
            "  adding: checkpoints/ (stored 0%)\n",
            "  adding: checkpoints/checkpoint (deflated 48%)\n",
            "  adding: checkpoints/checkpoint.data-00000-of-00001 (deflated 8%)\n",
            "  adding: checkpoints/checkpoint.index (deflated 80%)\n"
          ]
        }
      ]
    }
  ]
}