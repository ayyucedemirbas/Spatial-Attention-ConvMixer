{
  "nbformat": 4,
  "nbformat_minor": 0,
  "metadata": {
    "colab": {
      "provenance": []
    },
    "kernelspec": {
      "name": "python3",
      "display_name": "Python 3"
    },
    "language_info": {
      "name": "python"
    },
    "accelerator": "GPU",
    "gpuClass": "standard"
  },
  "cells": [
    {
      "cell_type": "code",
      "source": [
        "from google.colab import drive\n",
        "drive.mount('/content/drive')"
      ],
      "metadata": {
        "colab": {
          "base_uri": "https://localhost:8080/"
        },
        "id": "44qlAVhJVnGv",
        "outputId": "360e893e-abf3-4297-82cd-4abf2f19d96f"
      },
      "execution_count": 1,
      "outputs": [
        {
          "output_type": "stream",
          "name": "stdout",
          "text": [
            "Mounted at /content/drive\n"
          ]
        }
      ]
    },
    {
      "cell_type": "code",
      "source": [
        "!pip install tensorflow-addons"
      ],
      "metadata": {
        "colab": {
          "base_uri": "https://localhost:8080/"
        },
        "id": "EPAYT4JXP7F7",
        "outputId": "2764ce4c-1fac-4664-cd4c-607e9b89292b"
      },
      "execution_count": 2,
      "outputs": [
        {
          "output_type": "stream",
          "name": "stdout",
          "text": [
            "Looking in indexes: https://pypi.org/simple, https://us-python.pkg.dev/colab-wheels/public/simple/\n",
            "Collecting tensorflow-addons\n",
            "  Downloading tensorflow_addons-0.19.0-cp38-cp38-manylinux_2_17_x86_64.manylinux2014_x86_64.whl (1.1 MB)\n",
            "\u001b[2K     \u001b[90m━━━━━━━━━━━━━━━━━━━━━━━━━━━━━━━━━━━━━━━━\u001b[0m \u001b[32m1.1/1.1 MB\u001b[0m \u001b[31m1.7 MB/s\u001b[0m eta \u001b[36m0:00:00\u001b[0m\n",
            "\u001b[?25hRequirement already satisfied: typeguard>=2.7 in /usr/local/lib/python3.8/dist-packages (from tensorflow-addons) (2.7.1)\n",
            "Requirement already satisfied: packaging in /usr/local/lib/python3.8/dist-packages (from tensorflow-addons) (21.3)\n",
            "Requirement already satisfied: pyparsing!=3.0.5,>=2.0.2 in /usr/local/lib/python3.8/dist-packages (from packaging->tensorflow-addons) (3.0.9)\n",
            "Installing collected packages: tensorflow-addons\n",
            "Successfully installed tensorflow-addons-0.19.0\n"
          ]
        }
      ]
    },
    {
      "cell_type": "code",
      "source": [
        "!cp /content/drive/MyDrive/kvasir_dataset.zip ."
      ],
      "metadata": {
        "id": "BOQs3Ap0QCv8"
      },
      "execution_count": 3,
      "outputs": []
    },
    {
      "cell_type": "code",
      "source": [
        "!unzip -qq kvasir_dataset.zip"
      ],
      "metadata": {
        "id": "-FAJ1i8xQJgW"
      },
      "execution_count": 4,
      "outputs": []
    },
    {
      "cell_type": "code",
      "source": [
        "from tensorflow.keras.models import Sequential\n",
        "from tensorflow.keras import layers"
      ],
      "metadata": {
        "id": "UwCLoZ0NlNyd"
      },
      "execution_count": 5,
      "outputs": []
    },
    {
      "cell_type": "code",
      "source": [
        "data_augmentation= Sequential([\n",
        "                               #layers.Rescaling(scale=1.0 / 255),\n",
        "                               layers.RandomBrightness(factor=0.2, value_range=(0, 255), seed=123)\n",
        "])"
      ],
      "metadata": {
        "id": "RjKhy7HHlNBH"
      },
      "execution_count": 6,
      "outputs": []
    },
    {
      "cell_type": "code",
      "execution_count": 7,
      "metadata": {
        "id": "R5JYCTDIPppH"
      },
      "outputs": [],
      "source": [
        "import tensorflow as tf\n",
        "import tensorflow_addons as tfa\n",
        "from tensorflow.keras.layers import (\n",
        "    Dense,\n",
        "    Dropout,\n",
        "    LayerNormalization,\n",
        ")\n",
        "from tensorflow.keras.layers.experimental.preprocessing import Rescaling\n",
        "\n",
        "\n",
        "class MultiHeadSelfAttention(tf.keras.layers.Layer):\n",
        "    def __init__(self, embed_dim, num_heads=8):\n",
        "        super(MultiHeadSelfAttention, self).__init__()\n",
        "        self.embed_dim = embed_dim\n",
        "        self.num_heads = num_heads\n",
        "        if embed_dim % num_heads != 0:\n",
        "            raise ValueError(\n",
        "                f\"embedding dimension = {embed_dim} should be divisible by number of heads = {num_heads}\"\n",
        "            )\n",
        "        self.projection_dim = embed_dim // num_heads\n",
        "        self.query_dense = Dense(embed_dim)\n",
        "        self.key_dense = Dense(embed_dim)\n",
        "        self.value_dense = Dense(embed_dim)\n",
        "        self.combine_heads = Dense(embed_dim)\n",
        "\n",
        "    def attention(self, query, key, value):\n",
        "        score = tf.matmul(query, key, transpose_b=True)\n",
        "        dim_key = tf.cast(tf.shape(key)[-1], tf.float32)\n",
        "        scaled_score = score / tf.math.sqrt(dim_key)\n",
        "        weights = tf.nn.softmax(scaled_score, axis=-1)\n",
        "        output = tf.matmul(weights, value)\n",
        "        return output, weights\n",
        "\n",
        "    def separate_heads(self, x, batch_size):\n",
        "        x = tf.reshape(\n",
        "            x, (batch_size, -1, self.num_heads, self.projection_dim)\n",
        "        )\n",
        "        return tf.transpose(x, perm=[0, 2, 1, 3])\n",
        "\n",
        "    def call(self, inputs):\n",
        "        batch_size = tf.shape(inputs)[0]\n",
        "        query = self.query_dense(inputs)\n",
        "        key = self.key_dense(inputs)\n",
        "        value = self.value_dense(inputs)\n",
        "        query = self.separate_heads(query, batch_size)\n",
        "        key = self.separate_heads(key, batch_size)\n",
        "        value = self.separate_heads(value, batch_size)\n",
        "\n",
        "        attention, weights = self.attention(query, key, value)\n",
        "        attention = tf.transpose(attention, perm=[0, 2, 1, 3])\n",
        "        concat_attention = tf.reshape(\n",
        "            attention, (batch_size, -1, self.embed_dim)\n",
        "        )\n",
        "        output = self.combine_heads(concat_attention)\n",
        "        return output\n",
        "\n",
        "\n",
        "class TransformerBlock(tf.keras.layers.Layer):\n",
        "    def __init__(self, embed_dim, num_heads, ff_dim, dropout=0.1):\n",
        "        super(TransformerBlock, self).__init__()\n",
        "        self.att = MultiHeadSelfAttention(embed_dim, num_heads)\n",
        "        self.ffn = tf.keras.Sequential(\n",
        "            [Dense(ff_dim, activation=\"relu\"), Dense(embed_dim),]\n",
        "        )\n",
        "        self.augmentation=data_augmentation\n",
        "        self.layernorm1 = LayerNormalization(epsilon=1e-6)\n",
        "        self.layernorm2 = LayerNormalization(epsilon=1e-6)\n",
        "        self.dropout1 = Dropout(dropout)\n",
        "        self.dropout2 = Dropout(dropout)\n",
        "\n",
        "    def call(self, inputs, training):\n",
        "        attn_output = self.att(inputs)\n",
        "        attn_output = self.dropout1(attn_output, training=training)\n",
        "        out1 = self.layernorm1(inputs + attn_output)\n",
        "        ffn_output = self.ffn(out1)\n",
        "        ffn_output = self.dropout2(ffn_output, training=training)\n",
        "        return self.layernorm2(out1 + ffn_output)\n",
        "\n",
        "\n",
        "class VisionTransformer(tf.keras.Model):\n",
        "    def __init__(\n",
        "        self,\n",
        "        augmentation,\n",
        "        image_size,\n",
        "        patch_size,\n",
        "        num_layers,\n",
        "        num_classes,\n",
        "        d_model,\n",
        "        num_heads,\n",
        "        mlp_dim,\n",
        "        channels=3,\n",
        "        dropout=0.1,\n",
        "    ):\n",
        "        super(VisionTransformer, self).__init__()\n",
        "        num_patches = (image_size // patch_size) ** 2\n",
        "        self.patch_dim = channels * patch_size ** 2\n",
        "\n",
        "        self.patch_size = patch_size\n",
        "        self.d_model = d_model\n",
        "        self.num_layers = num_layers\n",
        "\n",
        "        self.augmentation = data_augmentation\n",
        "\n",
        "        self.rescale = Rescaling(1./255)\n",
        "        self.pos_emb = self.add_weight(\n",
        "            \"pos_emb\", shape=(1, num_patches + 1, d_model)\n",
        "        )\n",
        "        self.class_emb = self.add_weight(\"class_emb\", shape=(1, 1, d_model))\n",
        "        self.patch_proj = Dense(d_model)\n",
        "        self.enc_layers = [\n",
        "            TransformerBlock(d_model, num_heads, mlp_dim, dropout)\n",
        "            for _ in range(num_layers)\n",
        "        ]\n",
        "        self.mlp_head = tf.keras.Sequential(\n",
        "            [Dense(mlp_dim, activation=tfa.activations.gelu),\n",
        "                Dropout(dropout),\n",
        "                Dense(num_classes),\n",
        "            ]\n",
        "        )\n",
        "\n",
        "    def extract_patches(self, images):\n",
        "        batch_size = tf.shape(images)[0]\n",
        "        patches = tf.image.extract_patches(\n",
        "            images=images,\n",
        "            sizes=[1, self.patch_size, self.patch_size, 1],\n",
        "            strides=[1, self.patch_size, self.patch_size, 1],\n",
        "            rates=[1, 1, 1, 1],\n",
        "            padding=\"VALID\",\n",
        "        )\n",
        "        patches = tf.reshape(patches, [batch_size, -1, self.patch_dim])\n",
        "        return patches\n",
        "\n",
        "    def call(self, x, training):\n",
        "        batch_size = tf.shape(x)[0]\n",
        "        x = self.augmentation(x)\n",
        "        x = self.rescale(x)\n",
        "        patches = self.extract_patches(x)\n",
        "        x = self.patch_proj(patches)\n",
        "\n",
        "        class_emb = tf.broadcast_to(\n",
        "            self.class_emb, [batch_size, 1, self.d_model]\n",
        "        )\n",
        "        x = tf.concat([class_emb, x], axis=1)\n",
        "        x = x + self.pos_emb\n",
        "\n",
        "        for layer in self.enc_layers:\n",
        "            x = layer(x, training)\n",
        "\n",
        "        # First (class token) is used for classification\n",
        "        x = self.mlp_head(x[:, 0])\n",
        "        return x\n"
      ]
    },
    {
      "cell_type": "code",
      "source": [
        "imagePaths = \"kvasir_dataset/train/\"\n",
        "test_path = \"kvasir_dataset/test/\""
      ],
      "metadata": {
        "id": "Pd1SFF-VQkqP"
      },
      "execution_count": 8,
      "outputs": []
    },
    {
      "cell_type": "code",
      "source": [
        "batch_size=64\n",
        "img_height = 128\n",
        "img_width = 128"
      ],
      "metadata": {
        "id": "-v-yU4KBQmO1"
      },
      "execution_count": 9,
      "outputs": []
    },
    {
      "cell_type": "code",
      "source": [
        "import tensorflow as tf"
      ],
      "metadata": {
        "id": "rXfEfmnRQRsp"
      },
      "execution_count": 10,
      "outputs": []
    },
    {
      "cell_type": "code",
      "source": [
        "!rm -rf kvasir_dataset/train/.ipynb_checkpoints"
      ],
      "metadata": {
        "id": "q9UV8IgeQreK"
      },
      "execution_count": 11,
      "outputs": []
    },
    {
      "cell_type": "code",
      "source": [
        "train_ds = tf.keras.preprocessing.image_dataset_from_directory(\n",
        "  imagePaths,\n",
        "  #color_mode='grayscale',\n",
        "  validation_split=0.15,\n",
        "  subset=\"training\",\n",
        "  seed=123,\n",
        "  image_size=(img_height, img_width),\n",
        "  #label_mode=\"categorical\",\n",
        "  batch_size=batch_size)"
      ],
      "metadata": {
        "colab": {
          "base_uri": "https://localhost:8080/"
        },
        "id": "Gs4ZqakNQyGE",
        "outputId": "9aac1e85-51f1-49ba-b3b4-90922c8b5688"
      },
      "execution_count": 12,
      "outputs": [
        {
          "output_type": "stream",
          "name": "stdout",
          "text": [
            "Found 15300 files belonging to 6 classes.\n",
            "Using 13005 files for training.\n"
          ]
        }
      ]
    },
    {
      "cell_type": "code",
      "source": [
        "val_ds = tf.keras.preprocessing.image_dataset_from_directory(\n",
        "  imagePaths, \n",
        "  #color_mode='grayscale',\n",
        "  validation_split=0.15,\n",
        "  subset=\"validation\",\n",
        "  seed=123,\n",
        "  image_size=(img_height, img_width),\n",
        "  #label_mode=\"categorical\",\n",
        "  batch_size=batch_size)"
      ],
      "metadata": {
        "colab": {
          "base_uri": "https://localhost:8080/"
        },
        "id": "IQnYpISYQzl6",
        "outputId": "dca94f93-eaf3-4cdc-b6d8-ccfcbaf0f9bd"
      },
      "execution_count": 13,
      "outputs": [
        {
          "output_type": "stream",
          "name": "stdout",
          "text": [
            "Found 15300 files belonging to 6 classes.\n",
            "Using 2295 files for validation.\n"
          ]
        }
      ]
    },
    {
      "cell_type": "code",
      "source": [
        "test_ds = tf.keras.preprocessing.image_dataset_from_directory(\n",
        "  test_path,\n",
        "  seed=123,\n",
        "  image_size=(img_height, img_width),\n",
        "  #label_mode=\"categorical\",\n",
        "  batch_size=batch_size)"
      ],
      "metadata": {
        "colab": {
          "base_uri": "https://localhost:8080/"
        },
        "id": "obIiYtfxQsoP",
        "outputId": "ed2cab31-b752-499b-ccd1-ad1cf98f6c83"
      },
      "execution_count": 14,
      "outputs": [
        {
          "output_type": "stream",
          "name": "stdout",
          "text": [
            "Found 2700 files belonging to 6 classes.\n"
          ]
        }
      ]
    },
    {
      "cell_type": "code",
      "source": [
        "import os\n",
        "\n",
        "import tensorflow as tf\n",
        "import tensorflow_addons as tfa\n",
        "import tensorflow_datasets as tfds\n",
        "\n",
        "from tensorflow.keras.callbacks import TensorBoard\n",
        "\n",
        "\n",
        "AUTOTUNE = tf.data.experimental.AUTOTUNE\n",
        "\n",
        "if __name__ == \"__main__\":\n",
        "    logdir=\"logs\"\n",
        "    image_size=128\n",
        "    patch_size=4\n",
        "    num_layers=8  \n",
        "    d_model=64 \n",
        "    num_heads=4\n",
        "    mlp_dim=512\n",
        "    lr= 3e-4\n",
        "    weight_decay=1e-4\n",
        "    epochs=25\n",
        "    augmentation=data_augmentation\n",
        "   \n",
        "\n",
        "\n",
        "    strategy = tf.distribute.MirroredStrategy()\n",
        "\n",
        "    with strategy.scope():\n",
        "        model = VisionTransformer(\n",
        "            augmentation = augmentation,\n",
        "            image_size = img_height,\n",
        "            patch_size= patch_size,\n",
        "            num_layers= num_layers,\n",
        "            num_classes=6,\n",
        "            d_model=d_model,\n",
        "            num_heads=num_heads,\n",
        "            mlp_dim=mlp_dim,\n",
        "            channels=3,\n",
        "            dropout=0.1,\n",
        "        )\n",
        "        model.compile(\n",
        "            loss=tf.keras.losses.SparseCategoricalCrossentropy(\n",
        "                from_logits=True\n",
        "            ),\n",
        "            optimizer=tfa.optimizers.AdamW(\n",
        "                learning_rate=lr, weight_decay=weight_decay\n",
        "            ),\n",
        "            metrics=[\"accuracy\"],\n",
        "        )\n",
        "\n",
        "    early_stop = tf.keras.callbacks.EarlyStopping(patience=100),\n",
        "    #mcp = tf.keras.callbacks.ModelCheckpoint(filepath='weights/best.h5', save_best_only=True, monitor='val_loss', mode='min')\n",
        "    checkpoint_filepath = \"./my_checkpoints/checkpoint\"\n",
        "    checkpoint_callback = tf.keras.callbacks.ModelCheckpoint(\n",
        "        checkpoint_filepath,\n",
        "        monitor=\"val_accuracy\",\n",
        "        save_best_only=True,\n",
        "        save_weights_only=True,\n",
        "    )\n",
        "    reduce_lr = tf.keras.callbacks.ReduceLROnPlateau(\n",
        "    monitor='val_loss', factor=0.1, patience=3, verbose=0, mode='auto',\n",
        "    min_delta=0.0001, cooldown=0, min_lr=0)    \n",
        "\n",
        "    model.fit(\n",
        "        train_ds,\n",
        "        validation_data=val_ds,\n",
        "        epochs=epochs,\n",
        "        callbacks=[early_stop, checkpoint_callback, reduce_lr],\n",
        "    )\n",
        "    model.save_weights(os.path.join(logdir, \"vit\"))\n"
      ],
      "metadata": {
        "colab": {
          "base_uri": "https://localhost:8080/"
        },
        "id": "UvFWBgmXREWA",
        "outputId": "48e136e3-ace2-4a09-c012-8db070fb152c"
      },
      "execution_count": 15,
      "outputs": [
        {
          "metadata": {
            "tags": null
          },
          "name": "stdout",
          "output_type": "stream",
          "text": [
            "Epoch 1/25\n"
          ]
        },
        {
          "metadata": {
            "tags": null
          },
          "name": "stderr",
          "output_type": "stream",
          "text": [
            "WARNING:tensorflow:Using a while_loop for converting RngReadAndSkip\n",
            "WARNING:tensorflow:Using a while_loop for converting Bitcast\n",
            "WARNING:tensorflow:Using a while_loop for converting Bitcast\n",
            "WARNING:tensorflow:Using a while_loop for converting StatelessRandomUniformV2\n",
            "WARNING:tensorflow:Using a while_loop for converting RngReadAndSkip\n",
            "WARNING:tensorflow:Using a while_loop for converting Bitcast\n",
            "WARNING:tensorflow:Using a while_loop for converting Bitcast\n",
            "WARNING:tensorflow:Using a while_loop for converting StatelessRandomUniformV2\n",
            "WARNING:tensorflow:Using a while_loop for converting RngReadAndSkip\n",
            "WARNING:tensorflow:Using a while_loop for converting Bitcast\n",
            "WARNING:tensorflow:Using a while_loop for converting Bitcast\n",
            "WARNING:tensorflow:Using a while_loop for converting StatelessRandomUniformV2\n"
          ]
        },
        {
          "output_type": "stream",
          "name": "stdout",
          "text": [
            "204/204 [==============================] - 395s 2s/step - loss: 1.0614 - accuracy: 0.5120 - val_loss: 0.7579 - val_accuracy: 0.6288 - lr: 3.0000e-04\n",
            "Epoch 2/25\n",
            "204/204 [==============================] - 377s 2s/step - loss: 0.7602 - accuracy: 0.6337 - val_loss: 0.6721 - val_accuracy: 0.6736 - lr: 3.0000e-04\n",
            "Epoch 3/25\n",
            "204/204 [==============================] - 376s 2s/step - loss: 0.6575 - accuracy: 0.6797 - val_loss: 0.5962 - val_accuracy: 0.7120 - lr: 3.0000e-04\n",
            "Epoch 4/25\n",
            "204/204 [==============================] - 376s 2s/step - loss: 0.6078 - accuracy: 0.7032 - val_loss: 0.5689 - val_accuracy: 0.7325 - lr: 3.0000e-04\n",
            "Epoch 5/25\n",
            "204/204 [==============================] - 373s 2s/step - loss: 0.5807 - accuracy: 0.7187 - val_loss: 0.5547 - val_accuracy: 0.7246 - lr: 3.0000e-04\n",
            "Epoch 6/25\n",
            "204/204 [==============================] - 376s 2s/step - loss: 0.5493 - accuracy: 0.7396 - val_loss: 0.5610 - val_accuracy: 0.7381 - lr: 3.0000e-04\n",
            "Epoch 7/25\n",
            "204/204 [==============================] - 375s 2s/step - loss: 0.5444 - accuracy: 0.7383 - val_loss: 0.5516 - val_accuracy: 0.7503 - lr: 3.0000e-04\n",
            "Epoch 8/25\n",
            "204/204 [==============================] - 375s 2s/step - loss: 0.5260 - accuracy: 0.7518 - val_loss: 0.5175 - val_accuracy: 0.7547 - lr: 3.0000e-04\n",
            "Epoch 9/25\n",
            "204/204 [==============================] - 374s 2s/step - loss: 0.5147 - accuracy: 0.7613 - val_loss: 0.5409 - val_accuracy: 0.7438 - lr: 3.0000e-04\n",
            "Epoch 10/25\n",
            "204/204 [==============================] - 375s 2s/step - loss: 0.5006 - accuracy: 0.7679 - val_loss: 0.5440 - val_accuracy: 0.7551 - lr: 3.0000e-04\n",
            "Epoch 11/25\n",
            "204/204 [==============================] - 375s 2s/step - loss: 0.4852 - accuracy: 0.7729 - val_loss: 0.4894 - val_accuracy: 0.7856 - lr: 3.0000e-04\n",
            "Epoch 12/25\n",
            "204/204 [==============================] - 375s 2s/step - loss: 0.4797 - accuracy: 0.7827 - val_loss: 0.5168 - val_accuracy: 0.7564 - lr: 3.0000e-04\n",
            "Epoch 13/25\n",
            "204/204 [==============================] - 377s 2s/step - loss: 0.4610 - accuracy: 0.7884 - val_loss: 0.6288 - val_accuracy: 0.7394 - lr: 3.0000e-04\n",
            "Epoch 14/25\n",
            "204/204 [==============================] - 375s 2s/step - loss: 0.4617 - accuracy: 0.7879 - val_loss: 0.5237 - val_accuracy: 0.7765 - lr: 3.0000e-04\n",
            "Epoch 15/25\n",
            "204/204 [==============================] - 375s 2s/step - loss: 0.3936 - accuracy: 0.8280 - val_loss: 0.4798 - val_accuracy: 0.7935 - lr: 3.0000e-05\n",
            "Epoch 16/25\n",
            "204/204 [==============================] - 376s 2s/step - loss: 0.3931 - accuracy: 0.8271 - val_loss: 0.4814 - val_accuracy: 0.7961 - lr: 3.0000e-05\n",
            "Epoch 17/25\n",
            "204/204 [==============================] - 376s 2s/step - loss: 0.3934 - accuracy: 0.8305 - val_loss: 0.4728 - val_accuracy: 0.7961 - lr: 3.0000e-05\n",
            "Epoch 18/25\n",
            "204/204 [==============================] - 375s 2s/step - loss: 0.3945 - accuracy: 0.8314 - val_loss: 0.4698 - val_accuracy: 0.7991 - lr: 3.0000e-05\n",
            "Epoch 19/25\n",
            "204/204 [==============================] - 375s 2s/step - loss: 0.3969 - accuracy: 0.8278 - val_loss: 0.4609 - val_accuracy: 0.8000 - lr: 3.0000e-05\n",
            "Epoch 20/25\n",
            "204/204 [==============================] - 377s 2s/step - loss: 0.3981 - accuracy: 0.8311 - val_loss: 0.4681 - val_accuracy: 0.8000 - lr: 3.0000e-05\n",
            "Epoch 21/25\n",
            "204/204 [==============================] - 376s 2s/step - loss: 0.3986 - accuracy: 0.8298 - val_loss: 0.4688 - val_accuracy: 0.7926 - lr: 3.0000e-05\n",
            "Epoch 22/25\n",
            "204/204 [==============================] - 376s 2s/step - loss: 0.4048 - accuracy: 0.8261 - val_loss: 0.4619 - val_accuracy: 0.7991 - lr: 3.0000e-05\n",
            "Epoch 23/25\n",
            "204/204 [==============================] - 376s 2s/step - loss: 0.4065 - accuracy: 0.8298 - val_loss: 0.4552 - val_accuracy: 0.8031 - lr: 3.0000e-06\n",
            "Epoch 24/25\n",
            "204/204 [==============================] - 376s 2s/step - loss: 0.4314 - accuracy: 0.8201 - val_loss: 0.4659 - val_accuracy: 0.8000 - lr: 3.0000e-06\n",
            "Epoch 25/25\n",
            "204/204 [==============================] - 376s 2s/step - loss: 0.4616 - accuracy: 0.8100 - val_loss: 0.4808 - val_accuracy: 0.7965 - lr: 3.0000e-06\n"
          ]
        }
      ]
    },
    {
      "cell_type": "code",
      "source": [
        "from sklearn.metrics import classification_report, confusion_matrix"
      ],
      "metadata": {
        "id": "gTPuteApz68r"
      },
      "execution_count": 16,
      "outputs": []
    },
    {
      "cell_type": "code",
      "source": [
        "import numpy as np"
      ],
      "metadata": {
        "id": "iDqk-lGzw47z"
      },
      "execution_count": 17,
      "outputs": []
    },
    {
      "cell_type": "code",
      "source": [
        "model.load_weights(\"./my_checkpoints/checkpoint\")"
      ],
      "metadata": {
        "colab": {
          "base_uri": "https://localhost:8080/"
        },
        "id": "BdutWcezPejM",
        "outputId": "6b94dde6-8347-4cc1-bb97-e88c13258211"
      },
      "execution_count": 18,
      "outputs": [
        {
          "output_type": "execute_result",
          "data": {
            "text/plain": [
              "<tensorflow.python.training.tracking.util.CheckpointLoadStatus at 0x7fef6021c8e0>"
            ]
          },
          "metadata": {},
          "execution_count": 18
        }
      ]
    },
    {
      "cell_type": "code",
      "source": [
        "predictions = np.array([])\n",
        "labels =  np.array([])\n",
        "for x, y in test_ds:\n",
        "  Y_pred=model.predict(x)\n",
        "  y_prediction = np.argmax(Y_pred, axis=1)\n",
        "  predictions = np.concatenate([predictions, y_prediction])\n",
        "  labels = np.concatenate([labels, y.numpy()])"
      ],
      "metadata": {
        "colab": {
          "base_uri": "https://localhost:8080/"
        },
        "id": "TdG2HmVawlxH",
        "outputId": "b97375fc-9ee2-4c44-d18d-288de089c057"
      },
      "execution_count": 19,
      "outputs": [
        {
          "output_type": "stream",
          "name": "stdout",
          "text": [
            "2/2 [==============================] - 2s 276ms/step\n",
            "2/2 [==============================] - 0s 236ms/step\n",
            "2/2 [==============================] - 0s 237ms/step\n",
            "2/2 [==============================] - 0s 236ms/step\n",
            "2/2 [==============================] - 0s 85ms/step\n",
            "2/2 [==============================] - 0s 178ms/step\n",
            "2/2 [==============================] - 0s 240ms/step\n",
            "2/2 [==============================] - 0s 149ms/step\n",
            "2/2 [==============================] - 0s 302ms/step\n",
            "2/2 [==============================] - 0s 241ms/step\n",
            "2/2 [==============================] - 0s 70ms/step\n",
            "2/2 [==============================] - 0s 218ms/step\n",
            "2/2 [==============================] - 1s 349ms/step\n",
            "2/2 [==============================] - 0s 246ms/step\n",
            "2/2 [==============================] - 0s 243ms/step\n",
            "2/2 [==============================] - 0s 180ms/step\n",
            "2/2 [==============================] - 0s 255ms/step\n",
            "2/2 [==============================] - 0s 219ms/step\n",
            "2/2 [==============================] - 0s 245ms/step\n",
            "2/2 [==============================] - 1s 475ms/step\n",
            "2/2 [==============================] - 0s 239ms/step\n",
            "2/2 [==============================] - 0s 361ms/step\n",
            "2/2 [==============================] - 0s 190ms/step\n",
            "2/2 [==============================] - 0s 249ms/step\n",
            "2/2 [==============================] - 1s 465ms/step\n",
            "2/2 [==============================] - 0s 245ms/step\n",
            "2/2 [==============================] - 0s 239ms/step\n",
            "2/2 [==============================] - 0s 42ms/step\n",
            "2/2 [==============================] - 0s 249ms/step\n",
            "2/2 [==============================] - 0s 239ms/step\n",
            "2/2 [==============================] - 0s 242ms/step\n",
            "2/2 [==============================] - 0s 214ms/step\n",
            "2/2 [==============================] - 0s 236ms/step\n",
            "2/2 [==============================] - 0s 14ms/step\n",
            "2/2 [==============================] - 0s 236ms/step\n",
            "2/2 [==============================] - 0s 234ms/step\n",
            "2/2 [==============================] - 0s 238ms/step\n",
            "2/2 [==============================] - 0s 182ms/step\n",
            "2/2 [==============================] - 0s 179ms/step\n",
            "2/2 [==============================] - 0s 270ms/step\n",
            "2/2 [==============================] - 0s 239ms/step\n",
            "2/2 [==============================] - 0s 235ms/step\n",
            "1/1 [==============================] - 3s 3s/step\n"
          ]
        }
      ]
    },
    {
      "cell_type": "code",
      "source": [
        "print('Confusion Matrix')\n",
        "print(confusion_matrix(y_true=labels, y_pred=predictions))"
      ],
      "metadata": {
        "colab": {
          "base_uri": "https://localhost:8080/"
        },
        "id": "BoJkNMLM0E5n",
        "outputId": "86a2e434-a499-4b09-ca60-f05c28d5b0a8"
      },
      "execution_count": 24,
      "outputs": [
        {
          "output_type": "stream",
          "name": "stdout",
          "text": [
            "Confusion Matrix\n",
            "[[334 115   0   0   1   0]\n",
            " [115 334   0   0   0   1]\n",
            " [  0   0 416  34   0   0]\n",
            " [  0   0  47 386  12   5]\n",
            " [  4   0   4  16 357  69]\n",
            " [  1   0   1  12 116 320]]\n"
          ]
        }
      ]
    },
    {
      "cell_type": "code",
      "source": [
        "classes=['dyed-lifted-polyps','dyed-resection-margins', 'esophagitis','normal','polyps', 'ulcerative-colitis']\n",
        "     \n",
        "print('Classification Report')\n",
        "target_names = classes\n",
        "print(classification_report(y_true=labels, y_pred=predictions, target_names=target_names))"
      ],
      "metadata": {
        "colab": {
          "base_uri": "https://localhost:8080/"
        },
        "id": "_3e96own0IFN",
        "outputId": "3179b200-9b5a-4107-df31-b6495779558c"
      },
      "execution_count": 25,
      "outputs": [
        {
          "output_type": "stream",
          "name": "stdout",
          "text": [
            "Classification Report\n",
            "                        precision    recall  f1-score   support\n",
            "\n",
            "    dyed-lifted-polyps       0.74      0.74      0.74       450\n",
            "dyed-resection-margins       0.74      0.74      0.74       450\n",
            "           esophagitis       0.89      0.92      0.91       450\n",
            "                normal       0.86      0.86      0.86       450\n",
            "                polyps       0.73      0.79      0.76       450\n",
            "    ulcerative-colitis       0.81      0.71      0.76       450\n",
            "\n",
            "              accuracy                           0.80      2700\n",
            "             macro avg       0.80      0.80      0.79      2700\n",
            "          weighted avg       0.80      0.80      0.79      2700\n",
            "\n"
          ]
        }
      ]
    },
    {
      "cell_type": "code",
      "source": [
        "results = model.evaluate(test_ds)"
      ],
      "metadata": {
        "colab": {
          "base_uri": "https://localhost:8080/"
        },
        "id": "yb5YUlwy1nHE",
        "outputId": "1c508076-de7f-458c-f3c7-c4b104d0b7d7"
      },
      "execution_count": 22,
      "outputs": [
        {
          "metadata": {
            "tags": null
          },
          "name": "stdout",
          "output_type": "stream",
          "text": [
            "43/43 [==============================] - 38s 732ms/step - loss: 0.4557 - accuracy: 0.7952\n"
          ]
        }
      ]
    },
    {
      "cell_type": "code",
      "source": [
        "!zip -r vit_checkpoints.zip my_checkpoints/"
      ],
      "metadata": {
        "colab": {
          "base_uri": "https://localhost:8080/"
        },
        "id": "quuT_m_nPz2h",
        "outputId": "375b38b3-c510-4b1d-f88e-73c7343d9750"
      },
      "execution_count": 23,
      "outputs": [
        {
          "output_type": "stream",
          "name": "stdout",
          "text": [
            "  adding: my_checkpoints/ (stored 0%)\n",
            "  adding: my_checkpoints/checkpoint (deflated 48%)\n",
            "  adding: my_checkpoints/checkpoint.data-00000-of-00001 (deflated 8%)\n",
            "  adding: my_checkpoints/checkpoint.index (deflated 81%)\n"
          ]
        }
      ]
    }
  ]
}